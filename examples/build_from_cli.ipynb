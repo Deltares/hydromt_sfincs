{
 "cells": [
  {
   "attachments": {},
   "cell_type": "markdown",
   "metadata": {},
   "source": [
    "## Build a model from CLI"
   ]
  },
  {
   "attachments": {},
   "cell_type": "markdown",
   "metadata": {},
   "source": [
    "In this example a simple **SFINCS** compound flood model will be made, using **HydroMT**'s yml-file that allows for fast model configuration. The model is situated in **Northern Italy**, where a small selection of topography and bathymetry data has already been made available for you to try the examples."
   ]
  },
  {
   "cell_type": "code",
   "execution_count": null,
   "metadata": {},
   "outputs": [],
   "source": [
    "# To check the version of hydromt and the hydromt_sfincs plugin, run the following command in a terminal:\n",
    "!hydromt --models"
   ]
  },
  {
   "attachments": {},
   "cell_type": "markdown",
   "metadata": {},
   "source": [
    "This example shows how to build a simple SFINCS model on a regular grid, containing an elevation dep-file, offshore water level forcing and an upstream discharge input forcing.\n",
    "For making a more advanced model including e.g. spatially varying infiltration and roughness, see the example notebook: examples/build_from_script.ipynb\n",
    "\n",
    "In case you want to adjust this example to build a SFINCS model anywhere else in the world, you will have to add your own datasets to HydroMT's data catalog. For more info on that, check-out:\n",
    "\n",
    "- [Prepare data catalog](https://deltares.github.io/hydromt/latest/user_guide/data_prepare_cat.html)\n",
    "\n",
    "- [Example: Prepare data catalog](https://deltares.github.io/hydromt/latest/_examples/prep_data_catalog.html)\n",
    "\n",
    "- [Example: Datasources](example_datasources.ipynb)"
   ]
  },
  {
   "attachments": {},
   "cell_type": "markdown",
   "metadata": {},
   "source": [
    "**Steps followed in this notebook to build your SFINCS model:**\n",
    "<ol> \n",
    "<li> Build your first SFINCS model </li>\n",
    "<li> Check what files have been created </li>\n",
    "<li> Information about created files </li>\n",
    "<li> Plot current base model </li>\n",
    "<li> Explanation of HydroMT's .yml-file </li>\n",
    "<li> Make new model including forcing </li>\n",
    "<li> Plot model including forcing </li>\n",
    "<li> Check what additional files have been created </li>\n",
    "</ol> "
   ]
  },
  {
   "attachments": {},
   "cell_type": "markdown",
   "metadata": {},
   "source": [
    "Let's get started!"
   ]
  },
  {
   "attachments": {},
   "cell_type": "markdown",
   "metadata": {},
   "source": [
    "### 1. Build your first SFINCS model:"
   ]
  },
  {
   "cell_type": "code",
   "execution_count": null,
   "metadata": {},
   "outputs": [],
   "source": [
    "root = r\"./tmp_sfincs_base\""
   ]
  },
  {
   "cell_type": "code",
   "execution_count": null,
   "metadata": {},
   "outputs": [],
   "source": [
    "!hydromt build sfincs tmp_sfincs_base --region \"{'geom': 'data/region.geojson'}\" -i sfincs_base_build.yml --force-overwrite -v"
   ]
  },
  {
   "attachments": {},
   "cell_type": "markdown",
   "metadata": {},
   "source": [
    "**Explanation of what is provided:**\n",
    "\n",
    "* `!` : the '!' is added so you can run the command line interface (CLI) from a python notebook\n",
    "* `hydromt build sfincs` : HydroMT should build a SFINCS model, \n",
    "* `tmp_sfincs_base` : HydroMT should build the model in a folder called \"tmp_sfincs_base\" relative to the current working directory (you can also provide absolute paths)\n",
    "* `--region \"{'geom': 'data/region.geojson'}\"` : the area of interest for which a model is created is based on a geometry, which is already defined for you in the file \"data/region.geojson\"\n",
    "* `-i sfincs_base_build.yml` : model configuration which describes the complete pipeline to build your model, more on that later\n",
    "* `--force-overwrite` :  even if there's already an existing folder with the same name and SFINCS input files, HydroMT will overwrite it\n",
    "* `-v` : add verbosity to the logger"
   ]
  },
  {
   "attachments": {},
   "cell_type": "markdown",
   "metadata": {},
   "source": [
    "**NOTE:**\n",
    "\n",
    "- instead of `--region`, you can also type `-r`\n",
    "- instead of `--force-overwrite`, you can also type `--fo`\n",
    "- for extra output information of HydroMT's logfile command, add `-v`"
   ]
  },
  {
   "cell_type": "code",
   "execution_count": null,
   "metadata": {},
   "outputs": [],
   "source": [
    "# For more information on command line available options, type:\n",
    "!hydromt build --help"
   ]
  },
  {
   "attachments": {},
   "cell_type": "markdown",
   "metadata": {},
   "source": [
    "### 2. Check what files have been created:"
   ]
  },
  {
   "cell_type": "code",
   "execution_count": null,
   "metadata": {},
   "outputs": [],
   "source": [
    "import os\n",
    "\n",
    "dir_list = os.listdir(root)\n",
    "print(dir_list)"
   ]
  },
  {
   "attachments": {},
   "cell_type": "markdown",
   "metadata": {},
   "source": [
    "### 3. Information about created files:"
   ]
  },
  {
   "attachments": {},
   "cell_type": "markdown",
   "metadata": {},
   "source": [
    "**SFINCS native input files:**\n",
    "\n",
    "* `SFINCS configuration`: sfincs.inp ([Read more](https://sfincs.readthedocs.io/en/latest/input.html#overview))  \n",
    "    - which includes the grid definition ([Read more](https://sfincs.readthedocs.io/en/latest/input.html#grid-characteristics))\n",
    "* `depfile`: sfincs.dep ([Read more](https://sfincs.readthedocs.io/en/latest/input.html#depth-file))\n",
    "* `mskfile`: sfincs.msk ([Read more](https://sfincs.readthedocs.io/en/latest/input.html#mask-file))\n",
    "* `indfile`: sfincs.ind ([Read more](https://sfincs.readthedocs.io/en/latest/input.html#index-file))\n",
    "\n",
    "Check-out the SFINCS manual (see links) in case you want to have more information about each file\n",
    "\n",
    "**HydroMT output:**\n",
    "\n",
    "* `folder 'gis'` : contains tiff- and geojson-files of the input files of SFINCS, for you to easily check in your favourite GIS application\n",
    "* `folder 'subgrid'` : contains tiff-files of the subgrid input which can be used for downscaling later\n",
    "* `hydromt.log` : log-file with feedback of HydroMT during building your model\n"
   ]
  },
  {
   "attachments": {},
   "cell_type": "markdown",
   "metadata": {},
   "source": [
    "### 4. Plot current base model"
   ]
  },
  {
   "cell_type": "code",
   "execution_count": null,
   "metadata": {},
   "outputs": [],
   "source": [
    "from hydromt_sfincs import SfincsModel\n",
    "\n",
    "# read the model with hydromt methods\n",
    "sf = SfincsModel(root=root, mode=\"r\")\n",
    "sf.read()"
   ]
  },
  {
   "attachments": {},
   "cell_type": "markdown",
   "metadata": {},
   "source": [
    "Here in the plot you see the following:\n",
    "- Background geoimage of the region\n",
    "- Spatial colourplot of the elevation (dep)\n",
    "- In the red line of 'waterlevel bnd' the boundary cells along which SFINCS will later force input water levels"
   ]
  },
  {
   "cell_type": "code",
   "execution_count": null,
   "metadata": {},
   "outputs": [],
   "source": [
    "# plot the model with satelite basemap (see hydromt_sfincs.plot_basemap for more options)\n",
    "_ = sf.plot_basemap(shaded=False, bmap=\"sat\", zoomlevel=12)"
   ]
  },
  {
   "attachments": {},
   "cell_type": "markdown",
   "metadata": {},
   "source": [
    "### 5. Explanation of HydroMT's .yml-file:"
   ]
  },
  {
   "attachments": {},
   "cell_type": "markdown",
   "metadata": {},
   "source": [
    "This model was made using HydroMT's yaml-file, in this case ***'sfincs_base_build.yml'***, that contains:"
   ]
  },
  {
   "cell_type": "code",
   "execution_count": null,
   "metadata": {},
   "outputs": [],
   "source": [
    "fn = \"sfincs_base_build.yml\"\n",
    "with open(fn, \"r\") as f:\n",
    "    txt = f.read()\n",
    "print(txt)"
   ]
  },
  {
   "cell_type": "code",
   "execution_count": null,
   "metadata": {},
   "outputs": [],
   "source": [
    "# in case you want to see how hydromt interprets the config file, you can use the following:\n",
    "from hydromt.config import configread\n",
    "\n",
    "config = configread(fn)\n",
    "config"
   ]
  },
  {
   "attachments": {},
   "cell_type": "markdown",
   "metadata": {},
   "source": [
    "**You can see the following sections:**\n",
    "\n",
    "* `setup_config`: arguments are forwarded to the SFINCS model configuration file sfincs.inp, in this case the reference time 'tref', model start time 'tstart' and end time 'tstop'\n",
    "* `setup_grid_from_region`: used to create a model grid covering the region you provided; \n",
    "    <ul>\n",
    "    <li>using a grid resolution of 50 meters (res = 50) </li>\n",
    "    <li>using the closest UTM zone (crs = utm) to the model domain as the Coordinate Reference System (also a specific CRS or epsg-code can be provided) </li>\n",
    "    <li>using a rotation that results in a minimum rectangle around your region (if rotation=True)</li>\n",
    "    </ul>\n",
    "* `setup_dep`: adds topography and bathymetry data to the model domain. If using local data sources, these should be described in a `data_catalog.yml`. At least one dataset is required. \n",
    "    <ul><li>Additional data sources are merged with the first elevation dataset using merge argements (e.g. zmin, zmax, offset, mask) if provided. </li></ul>\n",
    "* `setup_mask_active`: set valid model cells based on an input region file (more options available).\n",
    "* `setup_mask_bounds`: set cells at the model domain edge with a maxmimum elevation of -5 meters (zmax = -5) to waterlevel boundary cells."
   ]
  },
  {
   "attachments": {},
   "cell_type": "markdown",
   "metadata": {},
   "source": [
    "From here on, we're going to extend the model with some forcing of water level and river discharge, so that actually something interesting will happen when you run the created SFINCS model later. Also, we're adding some observations points so we can inspect this. We do this with the additional yml-file  ***sfincs_base_update.yml*** containing what we want to add:"
   ]
  },
  {
   "attachments": {},
   "cell_type": "markdown",
   "metadata": {},
   "source": [
    "### 6. Update the model to include forcing:"
   ]
  },
  {
   "cell_type": "code",
   "execution_count": null,
   "metadata": {},
   "outputs": [],
   "source": [
    "!hydromt update sfincs tmp_sfincs_base -i sfincs_base_update.yml -v"
   ]
  },
  {
   "attachments": {},
   "cell_type": "markdown",
   "metadata": {},
   "source": [
    "The example above means the following: run **hydromt** with:\n",
    "\n",
    "- `update sfincs`: i.e. update a SFINCS model.\n",
    "- `tmp_sfincs_base`: original model folder. Here we update the model inplace. Add `-o <output folder>` to store the udpated model in another directory.\n",
    "- `-i sfincs_base_update.yml`: configuration file containing the components to update and their different options."
   ]
  },
  {
   "cell_type": "code",
   "execution_count": null,
   "metadata": {},
   "outputs": [],
   "source": [
    "# Let's see what is in the yml-file:\n",
    "\n",
    "fn = \"sfincs_base_update.yml\"\n",
    "with open(fn, \"r\") as f:\n",
    "    txt = f.read()\n",
    "print(txt)"
   ]
  },
  {
   "attachments": {},
   "cell_type": "markdown",
   "metadata": {},
   "source": [
    "**You can see the following sections:**\n",
    "\n",
    "* `setup_observation_points`: add 3 observation points based on the locations given in the shapefile *\"data//compound_example_observation_points.shp\"*\n",
    "* `setup_waterlevel_forcing`: add water level forcing, in this case water levels from a GTSM run, with 4 output points found in the SFINCS model domain. Timeseries are clipped automatically to the earlier provided start and stop time of the SFINCS model (in setup_config)\n",
    "* `setup_discharge_forcing`:  add an upstream river discharge input point, in this case from a csv file (timeseries) and a geojson (locations)"
   ]
  },
  {
   "attachments": {},
   "cell_type": "markdown",
   "metadata": {},
   "source": [
    "### 7. Plot model including forcing:"
   ]
  },
  {
   "cell_type": "code",
   "execution_count": null,
   "metadata": {},
   "outputs": [],
   "source": [
    "from hydromt_sfincs import SfincsModel\n",
    "\n",
    "# read the model with hydromt methods\n",
    "sf = SfincsModel(root=root, mode=\"r\")\n",
    "sf.read()"
   ]
  },
  {
   "attachments": {},
   "cell_type": "markdown",
   "metadata": {},
   "source": [
    "**In the forcing plot you see the following:**\n",
    "\n",
    "- Water level time-series based on GTSM input for the model period. For each of the 4 stations within the SFINCS domain,\n",
    "  these time-series are interpolated to the 'waterlevel' boundary cells (bnd) using the two nearest stations.\n",
    "- Discharge time series from the local file input. These timeseries are forced at the 'discharge src' points  \n",
    "\n"
   ]
  },
  {
   "cell_type": "code",
   "execution_count": null,
   "metadata": {},
   "outputs": [],
   "source": [
    "# Plot time-series:\n",
    "_ = sf.plot_forcing(fn_out=\"forcing.png\")"
   ]
  },
  {
   "attachments": {},
   "cell_type": "markdown",
   "metadata": {},
   "source": [
    "**In the basemap plot you see the following:**\n",
    "\n",
    "- Background geoimage of the region\n",
    "- Spatial colourplot of the elevation (dep)\n",
    "- In the red line of 'waterlevel bnd' the boundary cells along which SFINCS will later force input water levels\n",
    "- Specified observation points 'obs' in red diamond to get a 'sfincs_his.nc' output file\n",
    "- Discharge 'src' and waterlevel 'bnd' point locations."
   ]
  },
  {
   "cell_type": "code",
   "execution_count": null,
   "metadata": {},
   "outputs": [],
   "source": [
    "# plot the model basemaps\n",
    "# Note the added obs and forcing points\n",
    "\n",
    "_ = sf.plot_basemap(fn_out=\"basemap.png\", bmap=\"sat\", zoomlevel=12)"
   ]
  },
  {
   "attachments": {},
   "cell_type": "markdown",
   "metadata": {},
   "source": [
    "### 8. Check what additional files have been created:"
   ]
  },
  {
   "cell_type": "code",
   "execution_count": null,
   "metadata": {},
   "outputs": [],
   "source": [
    "dir_list = os.listdir(root)\n",
    "print(dir_list)"
   ]
  },
  {
   "attachments": {},
   "cell_type": "markdown",
   "metadata": {},
   "source": [
    "**SFINCS native input files:**\n",
    "\n",
    "* `obsfile`: sfincs.obs ([Read more](https://sfincs.readthedocs.io/en/latest/input.html#observation-points))\n",
    "* `bndfile`: sfincs.bnd ([Read more](https://sfincs.readthedocs.io/en/latest/input_forcing.html#water-level-points))\n",
    "* `bzsfile`: sfincs.bzs ([Read more](https://sfincs.readthedocs.io/en/latest/input_forcing.html#water-level-time-series))\n",
    "* `srcfile`: sfincs.src ([Read more](https://sfincs.readthedocs.io/en/latest/input_forcing.html#discharge-points))\n",
    "* `disfile`: sfincs.dis ([Read more](https://sfincs.readthedocs.io/en/latest/input_forcing.html#discharge-time-series))\n",
    "\n",
    "Click on **Read more** in case you want to have more information about what each file means!"
   ]
  },
  {
   "attachments": {},
   "cell_type": "markdown",
   "metadata": {},
   "source": [
    "In case you want to add other types of forcing, check-out:\n",
    "\n",
    "- [SFINCS manual about input forcing](https://sfincs.readthedocs.io/en/latest/input_forcing.html)\n",
    "- [Example: Forcing](example_forcing.ipynb)\n"
   ]
  },
  {
   "attachments": {},
   "cell_type": "markdown",
   "metadata": {},
   "source": [
    "Now you have made a model, you can progress to the notebooks: \n",
    "<ul>\n",
    "<li> examples/run_sfincs_model.ipynb </li>\n",
    "<li> examples/analyse_sfincs_model.ipynb </li>\n",
    "</ul>"
   ]
  },
  {
   "attachments": {},
   "cell_type": "markdown",
   "metadata": {},
   "source": [
    "This notebook provides you a simple SFINCS model on a regular grid. A more advanced example is provided in see <i>examples/build_from_script.ipynb</i>. In addition, an overview of all available options in HydroMT-SFINCS can be found [here](https://deltares.github.io/hydromt_sfincs/latest/user_guide/sfincs.html). "
   ]
  },
  {
   "attachments": {},
   "cell_type": "markdown",
   "metadata": {},
   "source": [
    "**NOTE:** HydroMT can build even more models for you, like the Hydrological model Wflow, \n",
    "to provide for instance upstream boundary conditions for your SFINCS model!\n",
    "See e.g: https://deltares.github.io/hydromt/latest/plugins.html"
   ]
  }
 ],
 "metadata": {
  "kernelspec": {
   "display_name": "hydromt-sfincs",
   "language": "python",
   "name": "python3"
  },
  "language_info": {
   "codemirror_mode": {
    "name": "ipython",
    "version": 3
   },
   "file_extension": ".py",
   "mimetype": "text/x-python",
   "name": "python",
   "nbconvert_exporter": "python",
   "pygments_lexer": "ipython3",
   "version": "3.10.11"
  },
  "vscode": {
   "interpreter": {
    "hash": "9ec3d1fca30a97858614ef59a1f03e9bb27fcbb0a81645b22c597c198da89e77"
   }
  }
 },
 "nbformat": 4,
 "nbformat_minor": 2
}
