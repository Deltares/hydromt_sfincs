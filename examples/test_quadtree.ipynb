{
 "cells": [
  {
   "cell_type": "markdown",
   "metadata": {},
   "source": [
    "## EXAMPLE Quadtree"
   ]
  },
  {
   "cell_type": "code",
   "execution_count": null,
   "metadata": {},
   "outputs": [],
   "source": [
    "# import necessary modules\n",
    "import os\n",
    "import numpy as np\n",
    "import pandas as pd\n",
    "import geopandas as gpd\n",
    "from matplotlib import path\n",
    "import time\n",
    "import xarray as xr\n",
    "import xugrid as xu\n",
    "\n",
    "import matplotlib.pyplot as plt\n",
    "\n",
    "from hydromt_sfincs import SfincsModel\n",
    "from hydromt_sfincs import utils\n",
    "\n",
    "from hydromt.log import setuplog"
   ]
  },
  {
   "cell_type": "markdown",
   "metadata": {},
   "source": [
    "#### Start with a regular grid model"
   ]
  },
  {
   "cell_type": "code",
   "execution_count": null,
   "metadata": {},
   "outputs": [],
   "source": [
    "logger = setuplog(\"sfincs_regular\", log_level=10)\n",
    "# Initialize SfincsModel Python class with the artifact data catalog which contains publically available data for North Italy\n",
    "# we overwrite (mode='w+') the existing model in the root directory if it exists\n",
    "sf = SfincsModel(\n",
    "    data_libs=[\"artifact_data\"], root=\"test_regular\", mode=\"w+\", logger=logger\n",
    ")"
   ]
  },
  {
   "cell_type": "code",
   "execution_count": null,
   "metadata": {},
   "outputs": [],
   "source": [
    "# Specify an input dictionary with the grid settings x0,y0,dx,dy,nmax,mmax,rotation and epsg code.\n",
    "# create SFINCS model with regular grid and characteristics of the input dictionary:\n",
    "sf.setup_grid(\n",
    "    x0=318650,\n",
    "    y0=5040000,\n",
    "    dx=50.0,\n",
    "    dy=50.0,\n",
    "    nmax=107,\n",
    "    mmax=250,\n",
    "    rotation=27,\n",
    "    epsg=32633,\n",
    ")"
   ]
  },
  {
   "cell_type": "code",
   "execution_count": null,
   "metadata": {},
   "outputs": [],
   "source": [
    "# # show the model grid outline\n",
    "# # sf.region.boundary.plot(figsize=(6,6))\n",
    "# _ = sf.plot_basemap(plot_region=True, bmap=\"sat\", zoomlevel=12)"
   ]
  },
  {
   "cell_type": "code",
   "execution_count": null,
   "metadata": {},
   "outputs": [],
   "source": [
    "# # now create a geodataframe that covers a part of the model grid\n",
    "# datasets_dep = [{\"elevtn\": \"merit_hydro\", \"zmin\": 0.001}, {\"elevtn\": \"gebco\"}]\n",
    "\n",
    "# # Add depth information to modelgrid based on these chosen datasets\n",
    "# sf.setup_dep(datasets_dep=datasets_dep)\n",
    "# sf.setup_mask_active(zmin=-5, reset_mask=True)\n",
    "# sf.setup_mask_bounds(btype=\"waterlevel\", zmax=-5, reset_bounds=True)"
   ]
  },
  {
   "cell_type": "code",
   "execution_count": null,
   "metadata": {},
   "outputs": [],
   "source": [
    "# derive river from hydrography data based on a minimum river length (river_len)\n",
    "# and minimum upstream area (river_upa)\n",
    "\n",
    "sf.setup_river_inflow(\n",
    "    hydrography=\"merit_hydro\", river_len=1000, river_upa=50, keep_rivers_geom=True\n",
    ")"
   ]
  },
  {
   "cell_type": "markdown",
   "metadata": {},
   "source": [
    "Create a 200m buffer around the river"
   ]
  },
  {
   "cell_type": "code",
   "execution_count": null,
   "metadata": {},
   "outputs": [],
   "source": [
    "gdf_riv = sf.geoms[\"rivers_inflow\"].copy()\n",
    "gdf_riv_buf = gdf_riv.assign(geometry=gdf_riv.buffer(200))\n",
    "gdf_riv_buf[\"refinement_level\"] = 2"
   ]
  },
  {
   "cell_type": "markdown",
   "metadata": {},
   "source": [
    "Create a 500m buffer around the coastline"
   ]
  },
  {
   "cell_type": "code",
   "execution_count": null,
   "metadata": {},
   "outputs": [],
   "source": [
    "gdf_osm = sf.data_catalog.get_geodataframe(\"osm_coastlines\", bbox=sf.bbox, buffer=0)\n",
    "\n",
    "# convert polygon to line\n",
    "gdf_osm_line = gdf_osm.to_crs(sf.crs).boundary\n",
    "\n",
    "# add a buffer to the line of 500m\n",
    "gdf_osm_buf = gdf_osm_line.buffer(500)\n",
    "\n",
    "# clip to model extent (whhy again needed?)\n",
    "gdf_osm_buf = gdf_osm_buf.intersection(sf.region.geometry)"
   ]
  },
  {
   "cell_type": "code",
   "execution_count": null,
   "metadata": {},
   "outputs": [],
   "source": [
    "# # Make a plot of model\n",
    "# # note the src points and derived river network\n",
    "# fig, ax = sf.plot_basemap(variable=\"dep\", plot_bounds=False, bmap=\"sat\")\n",
    "\n",
    "# # plot gdf_riv on top\n",
    "# gdf_riv_buf.plot(ax=ax, color=\"red\", linewidth=0.5)\n",
    "# gdf_osm_buf.plot(ax=ax, color=\"black\", linewidth=0.5)"
   ]
  },
  {
   "cell_type": "markdown",
   "metadata": {},
   "source": [
    "#### Continue with building a QuadTree model that is refined along the river and coast"
   ]
  },
  {
   "cell_type": "code",
   "execution_count": null,
   "metadata": {},
   "outputs": [],
   "source": [
    "logger = setuplog(\"sfincs_quadtree\", log_level=10)\n",
    "sf_qt = SfincsModel(\n",
    "    data_libs=[\"artifact_data\"], root=\"test_quadtree2\", mode=\"w+\", logger=logger\n",
    ")"
   ]
  },
  {
   "cell_type": "code",
   "execution_count": null,
   "metadata": {},
   "outputs": [],
   "source": [
    "gdf_refinement = gpd.GeoDataFrame(\n",
    "    {\"refinement_level\": [1, 2]},\n",
    "    geometry=[\n",
    "        gdf_osm_buf.unary_union,\n",
    "        gdf_riv_buf.unary_union,\n",
    "    ],\n",
    "    crs=sf.crs,\n",
    ")\n",
    "\n",
    "# traditional way of creating a quadtree grid\n",
    "sf_qt.setup_grid(\n",
    "    x0=318650,\n",
    "    y0=5040000,\n",
    "    dx=50.0,\n",
    "    dy=50.0,\n",
    "    nmax=107,\n",
    "    mmax=250,\n",
    "    rotation=27,\n",
    "    epsg=32633,\n",
    "    refinement_polygons=gdf_refinement,\n",
    ")\n",
    "\n",
    "# alternative way of creating a quadtree grid\n",
    "# sf_qt.setup_grid_from_region(region={\"geom\": sf.region}, #area that needs to be covered by the grid\n",
    "#                             res=50, # set resolution\n",
    "#                             rotated=True, # when True, rotation is determined to minimize the grid extent\n",
    "#                             refinement_polygons=gdf_refinement)\n",
    "\n",
    "# NOTE this grid is smaller since the inactive cells of the regular model are already excluded from the grid"
   ]
  },
  {
   "cell_type": "markdown",
   "metadata": {},
   "source": [
    "Generate topobathy on the quadtree grid"
   ]
  },
  {
   "cell_type": "code",
   "execution_count": null,
   "metadata": {},
   "outputs": [],
   "source": [
    "datasets_dep = [{\"elevtn\": \"merit_hydro\", \"zmin\": 0.001}, {\"elevtn\": \"gebco\"}]\n",
    "\n",
    "sf_qt.setup_dep(datasets_dep=datasets_dep)"
   ]
  },
  {
   "cell_type": "code",
   "execution_count": null,
   "metadata": {},
   "outputs": [],
   "source": [
    "sf_qt.quadtree.data[\"dep\"].ugrid.plot()"
   ]
  },
  {
   "cell_type": "markdown",
   "metadata": {},
   "source": [
    "Continue with the mask for the QuadTree grid; we aim to have the same active extent as the regular grid in different ways:\n",
    "- Based on elevation\n",
    "- Bu using an include polygon"
   ]
  },
  {
   "cell_type": "code",
   "execution_count": null,
   "metadata": {},
   "outputs": [],
   "source": [
    "# add the gdf mask_include to gdf_refinement as combined gdf\n",
    "mask_include = gpd.GeoDataFrame(\n",
    "    pd.concat([sf.region, gdf_refinement], ignore_index=True)\n",
    ")\n",
    "\n",
    "# create a new buffer that most includes the open boundary\n",
    "gdf_osm_buf2 = gdf_osm_buf.buffer(2000, cap_style=3)\n",
    "open_include = gpd.GeoDataFrame(geometry=gdf_osm_buf2, crs=sf_qt.crs)"
   ]
  },
  {
   "cell_type": "code",
   "execution_count": null,
   "metadata": {},
   "outputs": [],
   "source": [
    "# sf_qt.quadtree.setup_mask(include_polygon=mask_include, open_boundary_polygon=open_include, open_boundary_zmax=-3)"
   ]
  },
  {
   "cell_type": "code",
   "execution_count": null,
   "metadata": {},
   "outputs": [],
   "source": [
    "# sf_qt.setup_mask_active(include_mask=mask_include, all_touched=False)"
   ]
  },
  {
   "cell_type": "code",
   "execution_count": null,
   "metadata": {},
   "outputs": [],
   "source": [
    "# NOTE we lose performance through the SfincsModel, I expect this to come from the data_catalog that parses the geodataframes\n",
    "# sf_qt.quadtree.setup_mask_active(gdf_include=mask_include, all_touched=False)\n",
    "sf_qt.quadtree.setup_mask_active(zmin=-5, reset_mask=True, all_touched=False)"
   ]
  },
  {
   "cell_type": "code",
   "execution_count": null,
   "metadata": {},
   "outputs": [],
   "source": [
    "sf_qt.quadtree.data[\"msk\"].ugrid.plot()"
   ]
  },
  {
   "cell_type": "code",
   "execution_count": null,
   "metadata": {},
   "outputs": [],
   "source": [
    "# %matplotlib qt\n",
    "%matplotlib inline\n",
    "sf_qt.setup_mask_bounds(\n",
    "    btype=\"waterlevel\", include_mask=open_include, zmax=-3, reset_bounds=True\n",
    ")\n",
    "sf_qt.quadtree.data[\"msk\"].ugrid.plot()"
   ]
  },
  {
   "cell_type": "code",
   "execution_count": null,
   "metadata": {},
   "outputs": [],
   "source": [
    "# %matplotlib qt\n",
    "%matplotlib inline\n",
    "sf_qt.setup_mask_bounds(\n",
    "    btype=\"waterlevel\",\n",
    "    include_mask=open_include,\n",
    "    zmax=-3,\n",
    "    reset_bounds=True,\n",
    "    connectivity=4,\n",
    ")\n",
    "sf_qt.quadtree.data[\"msk\"].ugrid.plot()"
   ]
  },
  {
   "cell_type": "code",
   "execution_count": null,
   "metadata": {},
   "outputs": [],
   "source": [
    "# sf_qt.quadtree.setup_mask_active(model=\"snapwave\", gdf_include= mask_include)#, gdf_exclude= new_exclude)#, gdf_include= include\n",
    "\n",
    "# sf_qt.quadtree.data[\"snapwave_msk\"].ugrid.plot()\n",
    "# plt.axis('equal')"
   ]
  },
  {
   "cell_type": "code",
   "execution_count": null,
   "metadata": {},
   "outputs": [],
   "source": [
    "# plot the difference between the mask (original code) and the msk (new code)\n",
    "# NOTE with all_touched=True, there is a small difference\n",
    "# (sf_qt.quadtree.data[\"mask\"]-sf_qt.quadtree.data[\"msk\"]).ugrid.plot()"
   ]
  },
  {
   "cell_type": "code",
   "execution_count": null,
   "metadata": {},
   "outputs": [],
   "source": [
    "# drop the mask variable from the quadtree data\n",
    "# sf_qt.quadtree.data = sf_qt.quadtree.data.drop(\"mask\")"
   ]
  },
  {
   "cell_type": "markdown",
   "metadata": {},
   "source": [
    "## Now some snapwave functionalities"
   ]
  },
  {
   "cell_type": "code",
   "execution_count": null,
   "metadata": {},
   "outputs": [],
   "source": [
    "sf_qt.setup_mask_active(\n",
    "    model=\"snapwave\", zmin=-10, zmax=0\n",
    ")  # , include_mask=gdf_riv_buf)\n",
    "sf_qt.quadtree.data[\"snapwave_msk\"].ugrid.plot()\n",
    "plt.axis(\"equal\")"
   ]
  },
  {
   "cell_type": "markdown",
   "metadata": {},
   "source": [
    "Try situation where we want to directly copy the SFINCS mask to SnapWave:"
   ]
  },
  {
   "cell_type": "code",
   "execution_count": null,
   "metadata": {},
   "outputs": [],
   "source": [
    "# %matplotlib qt\n",
    "%matplotlib inline\n",
    "# import importlib\n",
    "# from hydromt_sfincs import quadtree\n",
    "# importlib.reload(quadtree)\n",
    "\n",
    "sf_qt.setup_mask_bounds(\n",
    "    model=\"snapwave\",\n",
    "    include_mask=open_include,\n",
    "    zmax=-4,\n",
    "    copy_sfincsmask=False,\n",
    "    connectivity=4,\n",
    ")\n",
    "sf_qt.quadtree.data[\"snapwave_msk\"].ugrid.plot()\n",
    "\n",
    "plt.axis(\"equal\")"
   ]
  },
  {
   "cell_type": "code",
   "execution_count": null,
   "metadata": {},
   "outputs": [],
   "source": [
    "sf_qt.quadtree.data"
   ]
  },
  {
   "cell_type": "markdown",
   "metadata": {},
   "source": [
    "### Now create a subgrid table for this model"
   ]
  },
  {
   "cell_type": "code",
   "execution_count": null,
   "metadata": {},
   "outputs": [],
   "source": [
    "# sf_qt.setup_subgrid(datasets_dep=datasets_dep, buffer_cells=40)"
   ]
  },
  {
   "cell_type": "markdown",
   "metadata": {},
   "source": [
    "### Add some random boundary conditions"
   ]
  },
  {
   "cell_type": "code",
   "execution_count": null,
   "metadata": {},
   "outputs": [],
   "source": [
    "# x&y-locations in same coordinate reference system as the grid:\n",
    "x = [319526, 329195]\n",
    "y = [5041108, 5046243]\n",
    "\n",
    "# add to Geopandas dataframe as needed by HydroMT\n",
    "pnts = gpd.points_from_xy(x, y)\n",
    "index = [1, 2]  # NOTE that the index should start at one\n",
    "bnd = gpd.GeoDataFrame(index=index, geometry=pnts, crs=sf.crs)\n",
    "\n",
    "# In this case we will provide 3 values (periods=3) between the start (tstart=20100201 000000) and the end (tstop=20100201 120000) of the simulation:\n",
    "time = pd.date_range(\n",
    "    start=utils.parse_datetime(sf.config[\"tstart\"]),\n",
    "    end=utils.parse_datetime(sf.config[\"tstop\"]),\n",
    "    periods=3,\n",
    ")\n",
    "\n",
    "# add some water levels\n",
    "bzs = [[0, 0.25], [0.75, 1.0], [0, 0.25]]\n",
    "\n",
    "bzspd = pd.DataFrame(index=time, columns=index, data=bzs)\n",
    "\n",
    "# Actually add it to the SFINCS model class:\n",
    "sf_qt.setup_waterlevel_forcing(timeseries=bzspd, locations=bnd)"
   ]
  },
  {
   "cell_type": "code",
   "execution_count": null,
   "metadata": {},
   "outputs": [],
   "source": [
    "# # We now use the previously created src discharge points for the regular model\n",
    "# gdf = sf.forcing[\"dis\"].vector.to_gdf()\n",
    "\n",
    "# # make up some discharge data\n",
    "# index = sf.forcing[\"dis\"].index\n",
    "# dis = np.array([[2.0, 1.0], [5.0, 2.0], [2.0, 1.0]])\n",
    "# dispd = pd.DataFrame(index=time, columns=index, data=dis)\n",
    "\n",
    "# # now we call the function setup_discharge_forcing, which adds the discharge forcing to the src points\n",
    "# sf_qt.setup_discharge_forcing(timeseries=dispd, locations=gdf)\n",
    "\n",
    "# # # NOTE: the discharge forcing data is now stored in the sf.forcing dictionary\n",
    "# sf_qt.forcing.keys()"
   ]
  },
  {
   "cell_type": "markdown",
   "metadata": {},
   "source": [
    "### And save everything we build sofar"
   ]
  },
  {
   "cell_type": "code",
   "execution_count": null,
   "metadata": {},
   "outputs": [],
   "source": [
    "# this is needed for stability?\n",
    "# TODO check wheterh we have a stable solution in the end; seems to be unstable at the jumps in resolution\n",
    "sf_qt.config[\"tspinup\"] = 3600\n",
    "sf_qt.config[\"alpha\"] = 0.4"
   ]
  },
  {
   "cell_type": "code",
   "execution_count": null,
   "metadata": {},
   "outputs": [],
   "source": [
    "sf_qt.config[\n",
    "    \"snapwave_bndfile\"\n",
    "] = \"input_locations_ERA5_tmp.bnd\"  # org of OuterBanks is in UTM 18N not 17N!\n",
    "sf_qt.config[\"snapwave_bhsfile\"] = \"bhs_ERA5_tmp.bhs\"\n",
    "sf_qt.config[\"snapwave_btpfile\"] = \"btp_ERA5_tmp.btp\"\n",
    "sf_qt.config[\"snapwave_bwdfile\"] = \"mwd_ERA5_tmp.mwd\"\n",
    "sf_qt.config[\"snapwave_bdsfile\"] = \"bds_ERA5_tmp.bds\""
   ]
  },
  {
   "cell_type": "code",
   "execution_count": null,
   "metadata": {},
   "outputs": [],
   "source": [
    "sf_qt.write()"
   ]
  },
  {
   "cell_type": "markdown",
   "metadata": {},
   "source": [
    "Run and read results, make plots and animation"
   ]
  },
  {
   "cell_type": "code",
   "execution_count": null,
   "metadata": {},
   "outputs": [],
   "source": [
    "import xugrid as xu\n",
    "\n",
    "uds = xu.open_dataset(r\"..\\test_quadtree\\sfincs_map.nc\")"
   ]
  },
  {
   "cell_type": "code",
   "execution_count": null,
   "metadata": {},
   "outputs": [],
   "source": [
    "uds[\"zb\"].ugrid.plot()"
   ]
  },
  {
   "cell_type": "code",
   "execution_count": null,
   "metadata": {},
   "outputs": [],
   "source": [
    "uds[\"zsmax\"].max(dim=\"timemax\").ugrid.plot(vmax=2)"
   ]
  },
  {
   "cell_type": "code",
   "execution_count": null,
   "metadata": {},
   "outputs": [],
   "source": [
    "# plot rough estimation of water depth\n",
    "h = uds[\"zsmax\"].max(dim=\"timemax\") - uds[\"zb\"]\n",
    "\n",
    "h = h[h > 0.1]\n",
    "\n",
    "h.ugrid.plot()"
   ]
  },
  {
   "cell_type": "code",
   "execution_count": null,
   "metadata": {},
   "outputs": [],
   "source": [
    "# create zs plot and save to mod.root/figs/sfincs_zs.mp4\n",
    "# requires ffmpeg install with \"conda install ffmpeg -c conda-forge\"\n",
    "import matplotlib.pyplot as plt\n",
    "import numpy as np\n",
    "from matplotlib import animation\n",
    "\n",
    "step = 1  # one frame every <step> dtout\n",
    "cbar_kwargs = {\"shrink\": 0.6, \"anchor\": (0, 0)}\n",
    "da_zs = uds[\"zs\"]\n",
    "\n",
    "\n",
    "def update_plot(i, da_zs, cax_zs):\n",
    "    da_zsi = da_zs.isel(time=i)\n",
    "    t = da_zsi.time.dt.strftime(\"%d-%B-%Y %H:%M:%S\").item()\n",
    "    ax.set_title(f\"SFINCS water level {t}\")\n",
    "    cax_zs.set_array(da_zsi.values.ravel())\n",
    "\n",
    "\n",
    "fig, ax = plt.subplots(figsize=(11, 7))\n",
    "cax_zs = da_zs.isel(time=0).ugrid.plot(\n",
    "    ax=ax, vmin=0, vmax=3, cmap=plt.cm.viridis, cbar_kwargs=cbar_kwargs\n",
    ")\n",
    "plt.close()  # to prevent double plot\n",
    "\n",
    "ani = animation.FuncAnimation(\n",
    "    fig,\n",
    "    update_plot,\n",
    "    frames=np.arange(0, da_zs.time.size, step),\n",
    "    interval=250,  # ms between frames\n",
    "    fargs=(\n",
    "        da_zs,\n",
    "        cax_zs,\n",
    "    ),\n",
    ")\n",
    "\n",
    "# to save to mp4\n",
    "# ani.save(join(mod.root, 'figs', 'sfincs_h.mp4'), fps=4, dpi=200)\n",
    "\n",
    "# to show in notebook:\n",
    "from IPython.display import HTML\n",
    "\n",
    "HTML(ani.to_html5_video())"
   ]
  },
  {
   "cell_type": "code",
   "execution_count": null,
   "metadata": {},
   "outputs": [],
   "source": [
    "uds[\"msk\"].where(uds[\"msk\"] == 2, np.nan).ugrid.plot()"
   ]
  }
 ],
 "metadata": {
  "kernelspec": {
   "display_name": "hydromt-sfincs",
   "language": "python",
   "name": "python3"
  },
  "language_info": {
   "codemirror_mode": {
    "name": "ipython",
    "version": 3
   },
   "file_extension": ".py",
   "mimetype": "text/x-python",
   "name": "python",
   "nbconvert_exporter": "python",
   "pygments_lexer": "ipython3",
   "version": "3.11.6"
  }
 },
 "nbformat": 4,
 "nbformat_minor": 2
}
