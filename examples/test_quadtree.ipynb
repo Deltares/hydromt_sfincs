{
 "cells": [
  {
   "cell_type": "markdown",
   "metadata": {},
   "source": [
    "## EXAMPLE Quadtree"
   ]
  },
  {
   "cell_type": "code",
   "execution_count": null,
   "metadata": {},
   "outputs": [],
   "source": [
    "import os\n",
    "import numpy as np\n",
    "import pandas as pd\n",
    "import geopandas as gpd\n",
    "\n",
    "from hydromt_sfincs import SfincsModel\n",
    "from hydromt_sfincs import utils"
   ]
  },
  {
   "cell_type": "code",
   "execution_count": null,
   "metadata": {},
   "outputs": [],
   "source": [
    "# Initialize SfincsModel Python class with the artifact data catalog which contains publically available data for North Italy\n",
    "# we overwrite (mode='w+') the existing model in the root directory if it exists\n",
    "sf = SfincsModel(data_libs=[\"artifact_data\"], root=\"test_quadtree\", mode=\"w+\")"
   ]
  },
  {
   "cell_type": "code",
   "execution_count": null,
   "metadata": {},
   "outputs": [],
   "source": [
    "# Specify an input dictionary with the grid settings x0,y0,dx,dy,nmax,mmax,rotation and epsg code.\n",
    "# create SFINCS model with regular grid and characteristics of the input dictionary:\n",
    "sf.setup_grid(\n",
    "    x0=318650,\n",
    "    y0=5040000,\n",
    "    dx=50.0,\n",
    "    dy=50.0,\n",
    "    nmax=107,\n",
    "    mmax=250,\n",
    "    rotation=27,\n",
    "    epsg=32633,\n",
    ")"
   ]
  },
  {
   "cell_type": "code",
   "execution_count": null,
   "metadata": {},
   "outputs": [],
   "source": [
    "# show the model grid outline\n",
    "# sf.region.boundary.plot(figsize=(6,6))\n",
    "_ = sf.plot_basemap(plot_region=True, bmap=\"sat\", zoomlevel=12)"
   ]
  },
  {
   "cell_type": "code",
   "execution_count": null,
   "metadata": {},
   "outputs": [],
   "source": [
    "# now create a geodataframe that covers a part of the model grid\n",
    "datasets_dep = [{\"elevtn\": \"merit_hydro\", \"zmin\": 0.001}, {\"elevtn\": \"gebco\"}]\n",
    "\n",
    "# Add depth information to modelgrid based on these chosen datasets\n",
    "sf.setup_dep(datasets_dep=datasets_dep)\n",
    "sf.setup_mask_active(zmin=-5, reset_mask=True)\n",
    "sf.setup_mask_bounds(btype=\"waterlevel\", zmax=-5, reset_bounds=True)\n"
   ]
  },
  {
   "cell_type": "code",
   "execution_count": null,
   "metadata": {},
   "outputs": [],
   "source": [
    "# derive river from hydrography data based on a minimum river length (river_len) \n",
    "# and minimum upstream area (river_upa)\n",
    "\n",
    "sf.setup_river_inflow(\n",
    "    hydrography='merit_hydro',\n",
    "    river_len=1000,\n",
    "    river_upa=50, \n",
    "    keep_rivers_geom=True\n",
    ")\n"
   ]
  },
  {
   "cell_type": "code",
   "execution_count": null,
   "metadata": {},
   "outputs": [],
   "source": [
    "gdf_riv = sf.geoms['rivers_inflow'].copy()\n",
    "gdf_riv_buf = gdf_riv.assign(geometry=gdf_riv.buffer(200))\n",
    "gdf_riv_buf[\"refinement_level\"] = 2\n",
    "\n",
    "# Make a plot of model\n",
    "# note the src points and derived river network\n",
    "fig, ax = sf.plot_basemap(variable=\"dep\", plot_bounds=False, bmap=\"sat\")\n",
    "\n",
    "# plot gdf_riv on top\n",
    "gdf_riv_buf.plot(ax=ax, color=\"red\", linewidth=0.5)"
   ]
  },
  {
   "cell_type": "code",
   "execution_count": null,
   "metadata": {},
   "outputs": [],
   "source": [
    "import importlib\n",
    "\n",
    "from hydromt_sfincs import quadtree\n",
    "\n",
    "# NOTE this is to not have to restart the kernel all the time\n",
    "importlib.reload(quadtree)\n",
    "\n",
    "# create a quadtree object\n",
    "qt = quadtree.QuadtreeGrid()"
   ]
  },
  {
   "cell_type": "code",
   "execution_count": null,
   "metadata": {},
   "outputs": [],
   "source": [
    "qt.build(x0=318650, y0=5040000, dx=50.0, dy=50.0, nmax=107, mmax=250, rotation=27, epsg=32633,\n",
    "         refinement_polygons=gdf_riv_buf)"
   ]
  },
  {
   "cell_type": "code",
   "execution_count": null,
   "metadata": {},
   "outputs": [],
   "source": [
    "qt.data[\"level\"].ugrid.plot()"
   ]
  },
  {
   "cell_type": "markdown",
   "metadata": {},
   "source": [
    "## Uncomment for read/write"
   ]
  },
  {
   "cell_type": "code",
   "execution_count": null,
   "metadata": {},
   "outputs": [],
   "source": [
    "# qt.write(\"sfincs2.nc\")\n",
    "\n",
    "# qt2 = quadtree.QuadtreeGrid()\n",
    "# qt2.read(\"sfincs2.nc\")"
   ]
  },
  {
   "cell_type": "code",
   "execution_count": null,
   "metadata": {},
   "outputs": [],
   "source": [
    "da = sf.data_catalog.get_rasterdataset(\"gebco\", \n",
    "                        bbox=sf.mask.raster.transform_bounds(4326),\n",
    "                        buffer=10,\n",
    "                        variables=[\"elevtn\"],\n",
    "                        zoom_level=(sf.grid.raster.res, \"meter\"),)\n",
    "\n",
    "qt.set_bathymetry(da_dep=da)"
   ]
  },
  {
   "cell_type": "code",
   "execution_count": null,
   "metadata": {},
   "outputs": [],
   "source": [
    "da.plot()"
   ]
  },
  {
   "cell_type": "code",
   "execution_count": null,
   "metadata": {},
   "outputs": [],
   "source": [
    "sf.grid[\"dep\"].plot(x=\"xc\", y=\"yc\")"
   ]
  },
  {
   "cell_type": "code",
   "execution_count": null,
   "metadata": {},
   "outputs": [],
   "source": [
    "qt.data[\"z\"].ugrid.plot()"
   ]
  },
  {
   "cell_type": "code",
   "execution_count": null,
   "metadata": {},
   "outputs": [],
   "source": [
    "# %matplotlib qt\n",
    "%matplotlib inline\n",
    "\n",
    "qt.set_mask(model=\"sfincs\",zmin=-5, zmax=5)\n",
    "qt.data[\"mask\"].ugrid.plot()"
   ]
  },
  {
   "cell_type": "code",
   "execution_count": null,
   "metadata": {},
   "outputs": [],
   "source": [
    "qt.set_mask(model=\"snapwave\",zmin=-5, zmax=5, include_polygon=gdf_riv_buf) #> doesnt work yet because of expect z values in set_mask, I removed this criteria for now (/question whether we want this behaviour, that include_polygon doesn't overrule)\n",
    "qt.data[\"snapwave_mask\"].ugrid.plot()"
   ]
  },
  {
   "cell_type": "code",
   "execution_count": null,
   "metadata": {},
   "outputs": [],
   "source": [
    "qt.write(\"sfincs_snapwave.nc\")"
   ]
  },
  {
   "cell_type": "markdown",
   "metadata": {},
   "source": [
    "Try situation where we want to directly copy the SFINCS mask to SnapWave:"
   ]
  },
  {
   "cell_type": "code",
   "execution_count": null,
   "metadata": {},
   "outputs": [],
   "source": [
    "qt.set_mask(model=\"sfincs\",zmin=-5, zmax=5, include_polygon=gdf_riv_buf) #> doesnt work yet because of expect z values in set_mask, I removed this criteria for now (/question whether we want this behaviour, that include_polygon doesn't overrule)\n",
    "qt.data[\"mask\"].ugrid.plot()"
   ]
  },
  {
   "cell_type": "code",
   "execution_count": null,
   "metadata": {},
   "outputs": [],
   "source": [
    "qt.set_mask(model=\"snapwave\", copy_sfincs_mask2snapwave=True)\n",
    "qt.data[\"snapwave_mask\"].ugrid.plot()"
   ]
  },
  {
   "cell_type": "code",
   "execution_count": null,
   "metadata": {},
   "outputs": [],
   "source": [
    "qt.write(\"sfincs_snapwave_v2.nc\")"
   ]
  }
 ],
 "metadata": {
  "kernelspec": {
   "display_name": "hydromt-sfincs",
   "language": "python",
   "name": "python3"
  },
  "language_info": {
   "codemirror_mode": {
    "name": "ipython",
    "version": 3
   },
   "file_extension": ".py",
   "mimetype": "text/x-python",
   "name": "python",
   "nbconvert_exporter": "python",
   "pygments_lexer": "ipython3",
   "version": "3.10.9"
  }
 },
 "nbformat": 4,
 "nbformat_minor": 2
}
