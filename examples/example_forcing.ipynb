{
 "cells": [
  {
   "attachments": {},
   "cell_type": "markdown",
   "metadata": {},
   "source": [
    "## Working with forcing conditions"
   ]
  },
  {
   "cell_type": "code",
   "execution_count": null,
   "metadata": {},
   "outputs": [],
   "source": [
    "from hydromt.log import setuplog\n",
    "from hydromt_sfincs import SfincsModel"
   ]
  },
  {
   "cell_type": "code",
   "execution_count": null,
   "metadata": {},
   "outputs": [],
   "source": [
    "# Initialize SfincsModel with the artifact data catalog which contains data for North Italy\n",
    "sf = SfincsModel(\n",
    "    data_libs=[\"artifact_data\"],\n",
    "    root=\"tmp_example\",\n",
    "    mode=\"w+\",\n",
    "    logger=setuplog(\"\", log_level=20),\n",
    ")"
   ]
  },
  {
   "cell_type": "code",
   "execution_count": null,
   "metadata": {},
   "outputs": [],
   "source": [
    "sf.setup_grid(\n",
    "    x0=268650,\n",
    "    y0=5018550,\n",
    "    dx=150.0,\n",
    "    dy=150.0,\n",
    "    nmax=272,\n",
    "    mmax=425,\n",
    "    rotation=0,\n",
    "    epsg=32633,\n",
    ")"
   ]
  },
  {
   "cell_type": "code",
   "execution_count": null,
   "metadata": {},
   "outputs": [],
   "source": [
    "sf.setup_config(\n",
    "    tref=\"20100201 000000\",\n",
    "    tstart=\"20100201 000000\",\n",
    "    tstop=\"20100210 000000\",\n",
    ")"
   ]
  },
  {
   "cell_type": "code",
   "execution_count": null,
   "metadata": {},
   "outputs": [],
   "source": [
    "import pandas as pd\n",
    "import geopandas as gpd\n",
    "import hydromt\n",
    "import numpy as np\n",
    "from hydromt_sfincs import utils\n",
    "import xarray as xr\n",
    "\n",
    "# Provided data\n",
    "hs = [2, 2, 3]\n",
    "tp = [10, 10, 11]\n",
    "dir = [90, 90, 90]\n",
    "ds = [20, 20, 20]\n",
    "time = [0, 3600, 7200]\n",
    "\n",
    "gdf = utils.read_xy(\"data//compound_wavelocs.txt\", crs=sf.crs)\n",
    "\n",
    "\n",
    "# Df with muplitple variables --> To x_array?\n",
    "# What if time is not equal?\n",
    "\n",
    "df_hs = pd.DataFrame(index=time, data=hs)\n",
    "df_tp = pd.DataFrame(index=time, data=tp)\n",
    "df_dir = pd.DataFrame(index=time, data=dir)\n",
    "df_ds = pd.DataFrame(index=time, data=ds)\n",
    "\n",
    "list_df = [df_hs, df_tp, df_dir, df_ds]\n",
    "\n",
    "\n",
    "sf.setup_wave_forcing(timeseries=list_df, locations=gdf)\n",
    "\n",
    "gdf"
   ]
  },
  {
   "cell_type": "code",
   "execution_count": null,
   "metadata": {},
   "outputs": [],
   "source": [
    "sf.forcing"
   ]
  },
  {
   "cell_type": "code",
   "execution_count": null,
   "metadata": {},
   "outputs": [],
   "source": [
    "# data_hw = r\".\\data\\hurrywave_his.nc\"\n",
    "# ds =  xr.open_mfdataset(data_hw)\n",
    "\n",
    "# ds = ds.set_coords([\"station_x\", \"station_y\"])\n",
    "# ds = ds.rename_vars({\"point_hm0\":\"hs\", \"point_tp\":\"tp\", \"point_wavdir\":\"wd\", \"point_dirspr\":\"ds\"})\n",
    "# ds = ds.rename({\"station_x\": \"lon\", \"station_y\" : \"lat\", \"stations\": \"index\"})\n",
    "# ds = ds.set_coords([\"lon\", \"lat\"])\n",
    "# #ds = ds.set_index(stations = [\"station_x\", \"station_y\"], append = True )\n",
    "\n",
    "# sf.setup_wave_forcing(ds)\n",
    "\n",
    "# print(\"Hello\")"
   ]
  },
  {
   "cell_type": "code",
   "execution_count": null,
   "metadata": {},
   "outputs": [],
   "source": [
    "sf.write_forcing()\n",
    "# sf.forcing"
   ]
  },
  {
   "cell_type": "code",
   "execution_count": null,
   "metadata": {},
   "outputs": [],
   "source": [
    "data_snapwave = r\"c:\\git\\hydromt_sfincs\\examples\\tmp_example\\snapwave.nc\"\n",
    "ds_SW = xr.open_mfdataset(data_snapwave)\n",
    "ds_SW"
   ]
  },
  {
   "cell_type": "code",
   "execution_count": null,
   "metadata": {},
   "outputs": [],
   "source": [
    "# 2d precip\n",
    "sf.setup_precip_forcing_from_grid(\n",
    "    precip=\"era5_hourly\",\n",
    "    aggregate=True,\n",
    ")"
   ]
  },
  {
   "cell_type": "code",
   "execution_count": null,
   "metadata": {},
   "outputs": [],
   "source": [
    "ds_precip = sf.data_catalog.get_geodataframe(\"era5_hourly\")\n",
    "ds_precip"
   ]
  },
  {
   "cell_type": "code",
   "execution_count": null,
   "metadata": {},
   "outputs": [],
   "source": [
    "# 1d uniform precip\n",
    "sf.setup_precip_forcing_from_grid(\n",
    "    precip=\"era5_hourly\",\n",
    "    aggregate=True,\n",
    ")"
   ]
  },
  {
   "cell_type": "code",
   "execution_count": null,
   "metadata": {},
   "outputs": [],
   "source": [
    "sf.forcing[\"precip\"].to_pandas().to_csv(\"precip.csv\")\n",
    "sf.forcing.pop(\"precip\", None)  # reset\n",
    "sf.setup_precip_forcing(\n",
    "    timeseries=\"precip.csv\",\n",
    ")\n",
    "sf.plot_forcing()"
   ]
  },
  {
   "cell_type": "code",
   "execution_count": null,
   "metadata": {},
   "outputs": [],
   "source": [
    "from hydromt_sfincs import utils\n",
    "\n",
    "df = utils.read_timeseries(\"sfincs_compound//sfincs.bzs\", tref=sf.config[\"tref\"])\n",
    "gdf = utils.read_xy(\"sfincs_compound//sfincs.bnd\", crs=sf.crs)\n",
    "\n",
    "sf.forcing.pop(\"bzs\", None)  # reset\n",
    "sf.forcing.pop(\"precip\", None)  # reset\n",
    "\n",
    "# add timeseries and locations\n",
    "sf.setup_waterlevel_forcing(\n",
    "    timeseries=df,\n",
    "    locations=gdf,\n",
    "    merge=True,\n",
    ")\n",
    "sf.plot_forcing()"
   ]
  },
  {
   "cell_type": "code",
   "execution_count": null,
   "metadata": {},
   "outputs": [],
   "source": [
    "# merge (overwrite) existing timeseries with different time resoltiuon\n",
    "# and add offset\n",
    "sf.setup_waterlevel_forcing(\n",
    "    timeseries=df.iloc[::5, [0]],\n",
    "    locations=gdf.iloc[[0]],\n",
    "    offset=\"dtu10mdt\",\n",
    "    merge=True,\n",
    ")\n",
    "sf.plot_forcing()"
   ]
  },
  {
   "cell_type": "code",
   "execution_count": null,
   "metadata": {},
   "outputs": [],
   "source": [
    "# update timeseries from csv\n",
    "df.to_csv(\"waterlevel.csv\")\n",
    "sf.setup_waterlevel_forcing(\n",
    "    timeseries=\"waterlevel.csv\",\n",
    "    merge=True,\n",
    ")\n",
    "sf.plot_forcing()"
   ]
  },
  {
   "cell_type": "code",
   "execution_count": null,
   "metadata": {},
   "outputs": [],
   "source": [
    "# overwrite forcing from geodataset (netcdf file)\n",
    "sf.setup_waterlevel_forcing(\n",
    "    geodataset=\"gtsmv3_eu_era5\",\n",
    "    offset=\"dtu10mdt\",\n",
    "    merge=False,\n",
    ")\n",
    "sf.plot_forcing()"
   ]
  },
  {
   "cell_type": "code",
   "execution_count": null,
   "metadata": {},
   "outputs": [],
   "source": [
    "sf.write_forcing()\n",
    "sf.write_config()"
   ]
  },
  {
   "cell_type": "code",
   "execution_count": null,
   "metadata": {},
   "outputs": [],
   "source": [
    "# note that index number cannot be saved in ascii timeseries format\n",
    "# and are stored as attributes of the geojson file\n",
    "sf1 = SfincsModel(sf.root, mode=\"r\")  # read mode\n",
    "sf1.read_forcing()\n",
    "sf1.plot_forcing()"
   ]
  },
  {
   "cell_type": "code",
   "execution_count": null,
   "metadata": {},
   "outputs": [],
   "source": [
    "import importlib\n",
    "\n",
    "importlib.reload(hydromt_sfincs)"
   ]
  },
  {
   "cell_type": "code",
   "execution_count": null,
   "metadata": {},
   "outputs": [],
   "source": []
  },
  {
   "cell_type": "code",
   "execution_count": null,
   "metadata": {},
   "outputs": [],
   "source": []
  }
 ],
 "metadata": {
  "kernelspec": {
   "display_name": "hydromt-dev",
   "language": "python",
   "name": "python3"
  },
  "language_info": {
   "codemirror_mode": {
    "name": "ipython",
    "version": 3
   },
   "file_extension": ".py",
   "mimetype": "text/x-python",
   "name": "python",
   "nbconvert_exporter": "python",
   "pygments_lexer": "ipython3",
   "version": "3.11.8"
  },
  "vscode": {
   "interpreter": {
    "hash": "3808d5b5b54949c7a0a707a38b0a689040fa9c90ab139a050e41373880719ab1"
   }
  }
 },
 "nbformat": 4,
 "nbformat_minor": 2
}
