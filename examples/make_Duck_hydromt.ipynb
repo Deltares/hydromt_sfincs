{
 "cells": [
  {
   "cell_type": "markdown",
   "metadata": {},
   "source": [
    "## Remake Duck model in HydroMT"
   ]
  },
  {
   "cell_type": "code",
   "execution_count": null,
   "metadata": {},
   "outputs": [],
   "source": [
    "# import necessary modules\n",
    "import os\n",
    "import numpy as np\n",
    "import pandas as pd\n",
    "import geopandas as gpd\n",
    "from matplotlib import path\n",
    "import time\n",
    "import xarray as xr\n",
    "import xugrid as xu\n",
    "\n",
    "from hydromt_sfincs import SfincsModel\n",
    "from hydromt_sfincs import utils\n",
    "\n",
    "from hydromt.log import setuplog"
   ]
  },
  {
   "cell_type": "code",
   "execution_count": null,
   "metadata": {},
   "outputs": [],
   "source": [
    "!hydromt --version"
   ]
  },
  {
   "cell_type": "markdown",
   "metadata": {},
   "source": [
    "#### Continue with building a QuadTree model"
   ]
  },
  {
   "cell_type": "code",
   "execution_count": null,
   "metadata": {},
   "outputs": [],
   "source": [
    "logger = setuplog(\"sfincs_duck_hydromt\", log_level=10)\n",
    "sf_qt = SfincsModel(\n",
    "    data_libs=[\"deltares_data\"], root=\"test_duck3\", mode=\"w+\", logger=logger\n",
    ")"
   ]
  },
  {
   "cell_type": "code",
   "execution_count": null,
   "metadata": {},
   "outputs": [],
   "source": [
    "# first have reg grid\n",
    "sf_qt.setup_grid(\n",
    "    x0=-2.5,\n",
    "    y0=-2.5,\n",
    "    dx=5.0,\n",
    "    dy=5.0,\n",
    "    nmax=422,\n",
    "    mmax=179,\n",
    "    rotation=0,\n",
    "    epsg=32620,\n",
    ")"
   ]
  },
  {
   "cell_type": "code",
   "execution_count": null,
   "metadata": {},
   "outputs": [],
   "source": [
    "file_name = r\".\\input_duck\\refine.pol\"\n",
    "\n",
    "refine_gdf = utils.polygon2gdf(feats=utils.read_geoms(fn=file_name), crs=sf_qt.crs)\n",
    "\n",
    "gdf_refinement = gpd.GeoDataFrame(\n",
    "    {\n",
    "        \"refinement_level\": [\n",
    "            1,\n",
    "        ]\n",
    "    },\n",
    "    geometry=[\n",
    "        refine_gdf.unary_union,\n",
    "    ],\n",
    "    crs=sf_qt.crs,\n",
    ")\n",
    "\n",
    "gdf_refinement"
   ]
  },
  {
   "cell_type": "code",
   "execution_count": null,
   "metadata": {},
   "outputs": [],
   "source": [
    "sf_qt.setup_grid(\n",
    "    # x0=-2.5,\n",
    "    # y0=-2.5,\n",
    "    x0=-5,\n",
    "    y0=-5,\n",
    "    dx=10.0,\n",
    "    dy=10.0,\n",
    "    nmax=211,\n",
    "    mmax=90,\n",
    "    rotation=0,\n",
    "    epsg=32620,\n",
    "    refinement_polygons=gdf_refinement,\n",
    ")\n",
    "\n",
    "# alternative way of creating a quadtree grid\n",
    "# sf_qt.setup_grid_from_region(region={\"geom\": sf.region}, #area that needs to be covered by the grid\n",
    "#                             res=50, # set resolution\n",
    "#                             rotated=True, # when True, rotation is determined to minimize the grid extent\n",
    "#                             refinement_polygons=gdf_refinement)\n",
    "\n",
    "# NOTE this grid is smaller since the inactive cells of the regular model are already excluded from the grid"
   ]
  },
  {
   "cell_type": "markdown",
   "metadata": {},
   "source": [
    "Generate topobathy on the quadtree grid"
   ]
  },
  {
   "cell_type": "code",
   "execution_count": null,
   "metadata": {},
   "outputs": [],
   "source": [
    "sf_qt.quadtree.data"
   ]
  },
  {
   "cell_type": "code",
   "execution_count": null,
   "metadata": {},
   "outputs": [],
   "source": [
    "depin = r\".\\input_duck\\delilah.tif\""
   ]
  },
  {
   "cell_type": "code",
   "execution_count": null,
   "metadata": {},
   "outputs": [],
   "source": [
    "sf_qt.quadtree.data[\"level\"].ugrid.plot()"
   ]
  },
  {
   "cell_type": "code",
   "execution_count": null,
   "metadata": {},
   "outputs": [],
   "source": [
    "datasets_dep = [{\"elevtn\": depin}]\n",
    "\n",
    "sf_qt.setup_dep(datasets_dep=datasets_dep)"
   ]
  },
  {
   "cell_type": "code",
   "execution_count": null,
   "metadata": {},
   "outputs": [],
   "source": [
    "sf_qt.quadtree.data[\"dep\"].ugrid.plot()"
   ]
  },
  {
   "cell_type": "markdown",
   "metadata": {},
   "source": [
    "Continue with the mask for the QuadTree grid; we aim to have the same active extent as the regular grid in different ways:\n",
    "- Based on elevation\n",
    "- Bu using an include polygon"
   ]
  },
  {
   "cell_type": "code",
   "execution_count": null,
   "metadata": {},
   "outputs": [],
   "source": [
    "# sf_qt.quadtree.setup_mask(include_polygon=mask_include, open_boundary_polygon=open_include, open_boundary_zmax=-3)\n",
    "sf_qt.quadtree.setup_mask_active(zmin=-999, zmax=999)\n",
    "# sf_qt.setup_mask_active(zmin=-999, zmax=999)"
   ]
  },
  {
   "cell_type": "code",
   "execution_count": null,
   "metadata": {},
   "outputs": [],
   "source": [
    "# NOTE we lose performance through the SfincsModel, I expect this to come from the data_catalog that parses the geodataframes\n",
    "# sf_qt.quadtree.setup_mask_active(gdf_include=mask_include, all_touched=False)"
   ]
  },
  {
   "cell_type": "code",
   "execution_count": null,
   "metadata": {},
   "outputs": [],
   "source": [
    "sf_qt.crs"
   ]
  },
  {
   "cell_type": "code",
   "execution_count": null,
   "metadata": {},
   "outputs": [],
   "source": [
    "file_name = r\"./input_duck/bnd_wl_delilah_Left.pol\"\n",
    "\n",
    "open_include = utils.polygon2gdf(feats=utils.read_geoms(fn=file_name), crs=sf_qt.crs)"
   ]
  },
  {
   "cell_type": "code",
   "execution_count": null,
   "metadata": {},
   "outputs": [],
   "source": [
    "sf_qt.setup_mask_bounds(btype=\"waterlevel\", zmax=0, include_mask=open_include)  #\n",
    "\n",
    "# sf_qt.grid['msk'].plot(x=\"x\", y=\"y\")\n",
    "sf_qt.quadtree.data[\"msk\"].ugrid.plot()"
   ]
  },
  {
   "cell_type": "code",
   "execution_count": null,
   "metadata": {},
   "outputs": [],
   "source": [
    "# plot the difference between the mask (original code) and the msk (new code)\n",
    "# NOTE with all_touched=True, there is a small difference\n",
    "# (sf_qt.quadtree.data[\"mask\"]-sf_qt.quadtree.data[\"msk\"]).ugrid.plot()"
   ]
  },
  {
   "cell_type": "code",
   "execution_count": null,
   "metadata": {},
   "outputs": [],
   "source": [
    "# drop the mask variable from the quadtree data\n",
    "# sf_qt.quadtree.data = sf_qt.quadtree.data.drop(\"mask\")"
   ]
  },
  {
   "cell_type": "markdown",
   "metadata": {},
   "source": [
    "## Now some snapwave functionalities"
   ]
  },
  {
   "cell_type": "code",
   "execution_count": null,
   "metadata": {},
   "outputs": [],
   "source": [
    "# sf_qt.setup_mask_active(model=\"snapwave\", zmin=-999, zmax=2)#, include_mask=gdf_riv_buf)\n",
    "# sf_qt.quadtree.data[\"snapwave_msk\"].ugrid.plot()\n",
    "sf_qt.setup_mask_active(model=\"snapwave\", zmin=-999, zmax=0)\n",
    "sf_qt.quadtree.data[\"snapwave_msk\"].ugrid.plot()"
   ]
  },
  {
   "cell_type": "markdown",
   "metadata": {},
   "source": [
    "Try situation where we want to directly copy the SFINCS mask to SnapWave:"
   ]
  },
  {
   "cell_type": "code",
   "execution_count": null,
   "metadata": {},
   "outputs": [],
   "source": [
    "# sf_qt.setup_mask_bounds(model=\"snapwave\", copy_sfincsmask=True)\n",
    "# sf_qt.quadtree.data[\"snapwave_msk\"].ugrid.plot()"
   ]
  },
  {
   "cell_type": "markdown",
   "metadata": {},
   "source": [
    "### Adjust offshore wave boundary for SnapWave:"
   ]
  },
  {
   "cell_type": "code",
   "execution_count": null,
   "metadata": {},
   "outputs": [],
   "source": [
    "# %matplotlib qt\n",
    "%matplotlib inline\n",
    "\n",
    "sf_qt.setup_mask_bounds(\n",
    "    model=\"snapwave\", include_mask=open_include, copy_sfincsmask=False\n",
    ")\n",
    "fig = sf_qt.quadtree.data[\"snapwave_msk\"].ugrid.plot()\n",
    "# fig.aspect('equal', adjustable='box')"
   ]
  },
  {
   "cell_type": "code",
   "execution_count": null,
   "metadata": {},
   "outputs": [],
   "source": [
    "sf_qt.quadtree.data"
   ]
  },
  {
   "cell_type": "markdown",
   "metadata": {},
   "source": [
    "### Now create a subgrid table for this model"
   ]
  },
  {
   "cell_type": "code",
   "execution_count": null,
   "metadata": {},
   "outputs": [],
   "source": [
    "# sf_qt.setup_subgrid(datasets_dep=datasets_dep, buffer_cells=40)"
   ]
  },
  {
   "cell_type": "markdown",
   "metadata": {},
   "source": [
    "### Add some random boundary conditions"
   ]
  },
  {
   "cell_type": "code",
   "execution_count": null,
   "metadata": {},
   "outputs": [],
   "source": [
    "sf_qt.config[\"tref\"] = \"19901013 160000\"\n",
    "sf_qt.config[\"tstart\"] = \"19901013 160000\"\n",
    "sf_qt.config[\"tstop\"] = \"19901013 170000\""
   ]
  },
  {
   "cell_type": "code",
   "execution_count": null,
   "metadata": {},
   "outputs": [],
   "source": [
    "# x&y-locations in same coordinate reference system as the grid:\n",
    "x = [0, 0]\n",
    "y = [0, 2100]\n",
    "\n",
    "# add to Geopandas dataframe as needed by HydroMT\n",
    "pnts = gpd.points_from_xy(x, y)\n",
    "index = [1, 2]  # NOTE that the index should start at one\n",
    "bnd = gpd.GeoDataFrame(index=index, geometry=pnts, crs=sf_qt.crs)\n",
    "\n",
    "# In this case we will provide 3 values (periods=3) between the start (tstart=20100201 000000) and the end (tstop=20100201 120000) of the simulation:\n",
    "time = pd.date_range(\n",
    "    start=utils.parse_datetime(sf_qt.config[\"tstart\"]),\n",
    "    end=utils.parse_datetime(sf_qt.config[\"tstop\"]),\n",
    "    periods=2,\n",
    ")\n",
    "\n",
    "# add some water levels\n",
    "bzs = [[0.69, 0.69], [0.69, 0.69]]\n",
    "\n",
    "bzspd = pd.DataFrame(index=time, columns=index, data=bzs)\n",
    "\n",
    "# Actually add it to the SFINCS model class:\n",
    "sf_qt.setup_waterlevel_forcing(timeseries=bzspd, locations=bnd)"
   ]
  },
  {
   "cell_type": "markdown",
   "metadata": {},
   "source": [
    "### Add wave boundary conditions:"
   ]
  },
  {
   "cell_type": "code",
   "execution_count": null,
   "metadata": {},
   "outputs": [],
   "source": [
    "# Wanted 2 locations:\n",
    "gdf = utils.read_xy(\"input_duck//delilah_01.bnd\", crs=sf_qt.crs)\n",
    "\n",
    "# Wanted values:\n",
    "hs = [[1.81, 1.81], [1.81, 1.81]]\n",
    "tp = [[10.6, 10.6], [10.6, 10.6]]\n",
    "dir = [[286.0, 286.0], [286.0, 286.0]]\n",
    "ds = [[30.6, 30.6], [30.6, 30.6]]\n",
    "time = [0, 99999]\n",
    "\n",
    "df_hs = pd.DataFrame(index=time, data=hs)\n",
    "df_tp = pd.DataFrame(index=time, data=tp)\n",
    "df_dir = pd.DataFrame(index=time, data=dir)\n",
    "df_ds = pd.DataFrame(index=time, data=ds)\n",
    "\n",
    "list_df = [df_hs, df_tp, df_dir, df_ds]\n",
    "\n",
    "sf_qt.setup_wave_forcing(timeseries=list_df, locations=gdf)\n",
    "\n",
    "gdf"
   ]
  },
  {
   "cell_type": "code",
   "execution_count": null,
   "metadata": {},
   "outputs": [],
   "source": [
    "sf_qt.plot_forcing()"
   ]
  },
  {
   "cell_type": "markdown",
   "metadata": {},
   "source": [
    "### Add wavemaker:\n",
    "\n",
    "!NOTE - Clicking order should be anti-clockwise to force a wave to the left!!!"
   ]
  },
  {
   "cell_type": "code",
   "execution_count": null,
   "metadata": {},
   "outputs": [],
   "source": [
    "wvm = sf_qt.setup_wavemaker(wavemaker=\"input_duck//wavemaker.pol\", merge=False)\n",
    "\n",
    "sf_qt.geoms.keys()"
   ]
  },
  {
   "cell_type": "code",
   "execution_count": null,
   "metadata": {},
   "outputs": [],
   "source": [
    "sf_qt.geoms[\"wvm\"]"
   ]
  },
  {
   "cell_type": "markdown",
   "metadata": {},
   "source": [
    "### And save everything we build sofar"
   ]
  },
  {
   "cell_type": "code",
   "execution_count": null,
   "metadata": {},
   "outputs": [],
   "source": [
    "sf_qt.config[\"tspinup\"] = 60\n",
    "sf_qt.config[\"alpha\"] = 0.5\n",
    "sf_qt.config[\"theta\"] = 1.0\n",
    "\n",
    "sf_qt.config[\"advection\"] = 1\n",
    "\n",
    "sf_qt.config[\"zsini\"] = 0.69\n",
    "sf_qt.config[\"dtout\"] = 10.0\n",
    "\n",
    "sf_qt.config[\"obsfile\"] = \"../input_duck/delilah_points_ext.obs\""
   ]
  },
  {
   "cell_type": "code",
   "execution_count": null,
   "metadata": {},
   "outputs": [],
   "source": [
    "# SnapWave specific settings:\n",
    "sf_qt.config[\"dtwave\"] = 600\n",
    "sf_qt.config[\"storefw\"] = 1\n",
    "sf_qt.config[\"storewavdir\"] = 1\n",
    "sf_qt.config[\"snapwave\"] = 1\n",
    "sf_qt.config[\"snapwave_igwaves\"] = 1\n",
    "\n",
    "# sf_qt.config[\"snapwave_bndfile\"]        = \"../input_duck/delilah_01.bnd\"\n",
    "# sf_qt.config[\"snapwave_bhsfile\"]        = \"../input_duck/delilah_real.bhs\"\n",
    "# sf_qt.config[\"snapwave_btpfile\"]        = \"../input_duck/delilah_real.btp\"\n",
    "# sf_qt.config[\"snapwave_bwdfile\"]        = \"../input_duck/delilah_real.bwd\"\n",
    "# sf_qt.config[\"snapwave_bdsfile\"]        = \"../input_duck/delilah_real.bds\"\n",
    "\n",
    "sf_qt.config[\"snapwave_shinc2ig\"] = 1.0\n",
    "sf_qt.config[\"snapwave_fw\"] = 0.0001\n",
    "sf_qt.config[\"snapwave_fwig\"] = 0.015\n",
    "sf_qt.config[\"snapwave_baldock_opt\"] = 1\n",
    "sf_qt.config[\"snapwave_baldock_ratio\"] = 0.2\n",
    "sf_qt.config[\"snapwave_baldock_ratio_ig\"] = 0.2\n",
    "sf_qt.config[\"snapwave_alpha\"] = 1.5\n",
    "sf_qt.config[\"snapwave_alpha_ig\"] = 2.5\n",
    "sf_qt.config[\"snapwave_gamma\"] = 0.78\n",
    "sf_qt.config[\"snapwave_gammaig\"] = 0.2\n",
    "sf_qt.config[\"snapwave_ig_opt\"] = 1\n",
    "sf_qt.config[\"snapwave_hmin\"] = 0.01\n",
    "sf_qt.config[\"snapwave_shpercig\"] = 1.0\n",
    "sf_qt.config[\"snapwave_dtheta\"] = 10\n",
    "sf_qt.config[\"snapwave_alphaigfac\"] = 1.0\n",
    "sf_qt.config[\"snapwave_use_herbers\"] = 1"
   ]
  },
  {
   "cell_type": "code",
   "execution_count": null,
   "metadata": {},
   "outputs": [],
   "source": [
    "sf_qt.write()"
   ]
  },
  {
   "cell_type": "markdown",
   "metadata": {},
   "source": [
    "### Run simulation:"
   ]
  },
  {
   "cell_type": "code",
   "execution_count": null,
   "metadata": {},
   "outputs": [],
   "source": [
    "# run_path = \"./test_duck3\"\n",
    "\n",
    "# cur_dir = os.getcwd()\n",
    "\n",
    "# # uncomment to run sfincs\n",
    "# os.chdir(run_path)\n",
    "# os.system(\"run_sfincs.bat\")\n",
    "# os.chdir(cur_dir)"
   ]
  },
  {
   "cell_type": "markdown",
   "metadata": {},
   "source": [
    "### Read results, make plots and animation:"
   ]
  },
  {
   "cell_type": "code",
   "execution_count": null,
   "metadata": {},
   "outputs": [],
   "source": [
    "import xugrid as xu\n",
    "\n",
    "uds = xu.open_dataset(r\".\\test_duck3\\sfincs_map.nc\")\n",
    "\n",
    "uds"
   ]
  },
  {
   "cell_type": "code",
   "execution_count": null,
   "metadata": {},
   "outputs": [],
   "source": [
    "uds[\"zb\"].ugrid.plot()"
   ]
  },
  {
   "cell_type": "code",
   "execution_count": null,
   "metadata": {},
   "outputs": [],
   "source": [
    "uds[\"snapwavedepth\"][-1, :].ugrid.plot()"
   ]
  },
  {
   "cell_type": "code",
   "execution_count": null,
   "metadata": {},
   "outputs": [],
   "source": [
    "uds[\"msk\"].ugrid.plot()"
   ]
  },
  {
   "cell_type": "code",
   "execution_count": null,
   "metadata": {},
   "outputs": [],
   "source": [
    "uds[\"snapwavemsk\"].ugrid.plot()"
   ]
  },
  {
   "cell_type": "code",
   "execution_count": null,
   "metadata": {},
   "outputs": [],
   "source": [
    "uds[\"zsmax\"].max(dim=\"timemax\").ugrid.plot(vmax=1.0)"
   ]
  },
  {
   "cell_type": "code",
   "execution_count": null,
   "metadata": {},
   "outputs": [],
   "source": [
    "zsmax = uds[\"zsmax\"].max(dim=\"timemax\")\n",
    "# plot rough estimation of water depth\n",
    "h = zsmax - uds[\"zb\"]\n",
    "\n",
    "zsmax = zsmax[h > 0.1]\n",
    "\n",
    "zsmax.ugrid.plot(vmax=2.0)"
   ]
  },
  {
   "cell_type": "code",
   "execution_count": null,
   "metadata": {},
   "outputs": [],
   "source": [
    "uds[\"zsm\"][-1, :].ugrid.plot(vmax=5.0)"
   ]
  },
  {
   "cell_type": "code",
   "execution_count": null,
   "metadata": {},
   "outputs": [],
   "source": [
    "zsm = uds[\"zsm\"][-1, :]\n",
    "# plot rough estimation of water depth\n",
    "h = zsm - uds[\"zb\"]\n",
    "\n",
    "zsm = zsm[h > 0.1]\n",
    "\n",
    "zsm.ugrid.plot(vmax=1.0)"
   ]
  },
  {
   "cell_type": "code",
   "execution_count": null,
   "metadata": {},
   "outputs": [],
   "source": [
    "da = uds[\"zb\"].ugrid.sel(y=1050)\n",
    "da.plot(x=\"mesh2d_s\", label=\"zb\")\n",
    "\n",
    "da = uds[\"zsm\"][-1, :].ugrid.sel(y=1050)\n",
    "da.plot(x=\"mesh2d_s\", label=\"zs mean\")\n",
    "\n",
    "da = uds[\"zs\"][-1, :].ugrid.sel(y=1050)\n",
    "da.plot(x=\"mesh2d_s\", label=\"zs\")\n",
    "\n",
    "da = uds[\"zsmax\"].max(dim=\"timemax\").ugrid.sel(y=1050)\n",
    "da.plot(x=\"mesh2d_s\", label=\"zs max\")\n",
    "\n",
    "plt.legend()\n",
    "plt.xlim(600)\n",
    "plt.ylim(-5, 5)"
   ]
  },
  {
   "cell_type": "code",
   "execution_count": null,
   "metadata": {},
   "outputs": [],
   "source": [
    "uds[\"hm0\"][-1, :].ugrid.plot(vmax=1.5 * np.sqrt(2))"
   ]
  },
  {
   "cell_type": "code",
   "execution_count": null,
   "metadata": {},
   "outputs": [],
   "source": [
    "da = uds[\"hm0\"][-1, :].ugrid.sel(y=1050) / np.sqrt(2)\n",
    "da.plot(x=\"mesh2d_s\", label=\"incident\")\n",
    "\n",
    "da = uds[\"hm0ig\"][-1, :].ugrid.sel(y=1050) / np.sqrt(2)\n",
    "da.plot(x=\"mesh2d_s\", label=\"IG\")\n",
    "\n",
    "plt.legend()"
   ]
  },
  {
   "cell_type": "code",
   "execution_count": null,
   "metadata": {},
   "outputs": [],
   "source": [
    "uds[\"hm0ig\"][-1, :].ugrid.plot(vmax=0.35 * np.sqrt(2))"
   ]
  },
  {
   "cell_type": "code",
   "execution_count": null,
   "metadata": {},
   "outputs": [],
   "source": [
    "# plot rough estimation of water depth\n",
    "h = uds[\"zsmax\"].max(dim=\"timemax\") - uds[\"zb\"]\n",
    "\n",
    "h = h[h > 0.1]\n",
    "\n",
    "h.ugrid.plot()"
   ]
  },
  {
   "cell_type": "markdown",
   "metadata": {},
   "source": [
    "### 2D map animation:"
   ]
  },
  {
   "cell_type": "code",
   "execution_count": null,
   "metadata": {},
   "outputs": [],
   "source": [
    "# # create zs plot and save to mod.root/figs/sfincs_zs.mp4\n",
    "# # requires ffmpeg install with \"conda install ffmpeg -c conda-forge\"\n",
    "# import matplotlib.pyplot as plt\n",
    "# import numpy as np\n",
    "# from matplotlib import animation\n",
    "\n",
    "# step = 1  # one frame every <step> dtout\n",
    "# cbar_kwargs = {\"shrink\": 0.6, \"anchor\": (0, 0)}\n",
    "# da_zs = uds[\"zs\"]\n",
    "\n",
    "# def update_plot(i, da_zs, cax_zs):\n",
    "#     da_zsi = da_zs.isel(time=i)\n",
    "#     t = da_zsi.time.dt.strftime(\"%d-%B-%Y %H:%M:%S\").item()\n",
    "#     ax.set_title(f\"SFINCS water level {t}\")\n",
    "#     cax_zs.set_array(da_zsi.values.ravel())\n",
    "\n",
    "# fig, ax = plt.subplots(figsize=(11, 7))\n",
    "# cax_zs = da_zs.isel(time=0).ugrid.plot(\n",
    "#     ax=ax, vmin=0, vmax=1, cmap=plt.cm.viridis, cbar_kwargs=cbar_kwargs\n",
    "# )\n",
    "# plt.close()  # to prevent double plot\n",
    "\n",
    "# ani = animation.FuncAnimation(\n",
    "#     fig,\n",
    "#     update_plot,\n",
    "#     frames=np.arange(0, da_zs.time.size, step),\n",
    "#     interval=250,  # ms between frames\n",
    "#     fargs=(\n",
    "#         da_zs,\n",
    "#         cax_zs,\n",
    "#     ),\n",
    "# )\n",
    "\n",
    "# # to save to mp4\n",
    "# ani.save(os.path.join(sf_qt.root, 'sfincs_duck_zs.mp4'), fps=4, dpi=200)\n",
    "\n",
    "# # to show in notebook:\n",
    "# from IPython.display import HTML\n",
    "\n",
    "# HTML(ani.to_html5_video())"
   ]
  },
  {
   "cell_type": "markdown",
   "metadata": {},
   "source": [
    "### 1D transect animation:"
   ]
  },
  {
   "cell_type": "code",
   "execution_count": null,
   "metadata": {},
   "outputs": [],
   "source": [
    "# create zs plot and save to mod.root/figs/sfincs_zs.mp4\n",
    "# requires ffmpeg install with \"conda install ffmpeg -c conda-forge\"\n",
    "import matplotlib.pyplot as plt\n",
    "import numpy as np\n",
    "from matplotlib import animation\n",
    "\n",
    "step = 5  # 1  # one frame every <step> dtout\n",
    "cbar_kwargs = {\"shrink\": 0.6, \"anchor\": (0, 0)}\n",
    "time_zs = uds[\"time\"]\n",
    "da_zs = uds[\"zs\"].ugrid.sel(y=1050)\n",
    "da_zb = uds[\"zb\"].ugrid.sel(y=1050)\n",
    "da_zsm = uds[\"zsm\"].ugrid.sel(y=1050)\n",
    "da_zsmax = uds[\"zsmax\"].max(dim=\"timemax\").ugrid.sel(y=1050)\n",
    "\n",
    "\n",
    "def update_plot(i, da_zs, cax_zs):\n",
    "    ax.clear()\n",
    "\n",
    "    da_zsi = da_zs.isel(time=i)\n",
    "    # t = da_zsi.time.dt.strftime(\"%d-%B-%Y %H:%M:%S\").item()\n",
    "    # t = time_zs[i]\n",
    "    t = da_zsi.time.dt.strftime(\"%d-%B-%Y %H:%M:%S\").item()\n",
    "    cax_zs = da_zs.isel(time=i).plot(ax=ax, x=\"mesh2d_s\", label=\"zs\")\n",
    "    cax_zsm = da_zsm.isel(time=i).plot(ax=ax, x=\"mesh2d_s\", label=\"zsm\")\n",
    "    cax_zb = da_zb.plot(ax=ax, x=\"mesh2d_s\", label=\"zb\")\n",
    "    cax_zsmax = da_zsmax.plot(ax=ax, x=\"mesh2d_s\", label=\"zs max\")\n",
    "    # plt.legend()\n",
    "    ax.set_title(f\"SFINCS water level {t}\")\n",
    "    ax.set_xlim(600)\n",
    "    ax.set_ylim(-5, 5)\n",
    "    ax.legend()\n",
    "    # cax_zs.set_array(da_zsi.values.ravel())\n",
    "    # cax_zs = da_zs[i,:].plot(ax=ax)\n",
    "    # cax_zs.set_data(da_zsi.values.ravel())\n",
    "\n",
    "    # cax_zs.set_array\n",
    "    # plt.close()\n",
    "\n",
    "\n",
    "fig, ax = plt.subplots(figsize=(11, 7))\n",
    "# cax_zs = da_zs[0,:].ugrid.sel(y=1050).plot(ax=ax, label='zs')\n",
    "# cax_zs = da_zs.isel(time=0).plot(ax=ax, label='zs')\n",
    "# cax_zb = da_zb.plot(ax=ax, label='zb')\n",
    "# cax_zs = da_zs[0,:].ugrid.sel(y=1050).plot(ax=ax, label='zs')\n",
    "# cax_zsmax = da_zsmax.plot(ax=ax, label='zs max')\n",
    "\n",
    "plt.close()  # to prevent double plot\n",
    "\n",
    "ani = animation.FuncAnimation(\n",
    "    fig,\n",
    "    update_plot,\n",
    "    frames=np.arange(0, da_zs.time.size, step),\n",
    "    interval=250,  # ms between frames\n",
    "    fargs=(\n",
    "        da_zs,\n",
    "        cax_zs,\n",
    "    ),\n",
    ")\n",
    "\n",
    "# to save to mp4\n",
    "ani.save(os.path.join(sf_qt.root, \"sfincs_duck_zs_1D.mp4\"), fps=4, dpi=200)\n",
    "\n",
    "# to show in notebook:\n",
    "from IPython.display import HTML\n",
    "\n",
    "HTML(ani.to_html5_video())"
   ]
  },
  {
   "cell_type": "code",
   "execution_count": null,
   "metadata": {},
   "outputs": [],
   "source": [
    "uds[\"msk\"].where(uds[\"msk\"] == 2, np.nan).ugrid.plot()"
   ]
  }
 ],
 "metadata": {
  "kernelspec": {
   "display_name": "hydromt-sfincs",
   "language": "python",
   "name": "python3"
  },
  "language_info": {
   "codemirror_mode": {
    "name": "ipython",
    "version": 3
   },
   "file_extension": ".py",
   "mimetype": "text/x-python",
   "name": "python",
   "nbconvert_exporter": "python",
   "pygments_lexer": "ipython3",
   "version": "3.11.8"
  }
 },
 "nbformat": 4,
 "nbformat_minor": 2
}
