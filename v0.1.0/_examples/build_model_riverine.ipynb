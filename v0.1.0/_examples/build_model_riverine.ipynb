{
 "cells": [
  {
   "cell_type": "markdown",
   "id": "9a73590b",
   "metadata": {},
   "source": [
    "## Build a riverine SFINCS model from scratch"
   ]
  },
  {
   "cell_type": "markdown",
   "id": "ee510c6e",
   "metadata": {},
   "source": [
    "This notebook demonstrates how to prepare **SFINCS** model from scratch using the command line interace (CLI)."
   ]
  },
  {
   "cell_type": "markdown",
   "id": "6b96aa15",
   "metadata": {},
   "source": [
    "All lines in this notebook which start with `!` are executed from the command line. Within the notebook environment the logging messages are shown after completion. You can also copy these lines and paste these in your shell to get more direct feedback."
   ]
  },
  {
   "cell_type": "markdown",
   "id": "451c8168",
   "metadata": {},
   "source": [
    "### hydroMT CLI build interface"
   ]
  },
  {
   "cell_type": "markdown",
   "id": "2c70853e",
   "metadata": {},
   "source": [
    "Lets first check if the SFINCS model is recognized by hydromt"
   ]
  },
  {
   "cell_type": "code",
   "execution_count": 1,
   "id": "40470302",
   "metadata": {},
   "outputs": [
    {
     "name": "stdout",
     "output_type": "stream",
     "text": [
      "hydroMT model plugins: sfincs (v0.1.0)\r\n"
     ]
    }
   ],
   "source": [
    "# this should return \"sfincs\"\n",
    "!hydromt --models"
   ]
  },
  {
   "cell_type": "markdown",
   "id": "7d9b5a20",
   "metadata": {},
   "source": [
    "Using the **hydromt build** API we can setup a complete model from scratch. Let's get an overview of all the available options:"
   ]
  },
  {
   "cell_type": "code",
   "execution_count": 2,
   "id": "1d39e4a1",
   "metadata": {},
   "outputs": [
    {
     "name": "stdout",
     "output_type": "stream",
     "text": [
      "Usage: hydromt build [OPTIONS] MODEL MODEL_ROOT REGION\r\n",
      "\r\n",
      "  Build models from source data.\r\n",
      "\r\n",
      "  Example usage:\r\n",
      "  --------------\r\n",
      "\r\n",
      "  To build a wflow model for a subbasin using and point coordinates snapped to cells with stream order >= 4\r\n",
      "  hydromt build wflow /path/to/model_root \"{'subbasin': [-7.24, 62.09], 'strord': 4}\" -i /path/to/wflow_config.ini\r\n",
      "\r\n",
      "  To build a wflow model based on basin ID\r\n",
      "  hydromt build wflow /path/to/model_root \"{'basin': 230001006}\"\r\n",
      "\r\n",
      "  To build a sfincs model based on a bbox (for Texel)\r\n",
      "  hydromt build sfincs /path/to/model_root \"{'bbox': [4.6891,52.9750,4.9576,53.1994]}\"\r\n",
      "\r\n",
      "Options:\r\n",
      "  -r, --res FLOAT             Model resolution in model src.\r\n",
      "  --build-base / --build-all  Deprecated!\r\n",
      "  --opt TEXT                  Component specific keyword arguments, see the\r\n",
      "                              setup_<component> method of the specific model\r\n",
      "                              for more information about the arguments.\r\n",
      "\r\n",
      "  -i, --config PATH           Path to hydroMT configuration file, for the\r\n",
      "                              model specific implementation.\r\n",
      "\r\n",
      "  -d, --data PATH             File path to yml data sources file. See\r\n",
      "                              documentation for required yml file format.\r\n",
      "\r\n",
      "  --dd, --deltares-data       Parse default deltares data yml from\r\n",
      "                              https://github.com/DirkEilander/hydromt-\r\n",
      "                              artifacts/releases\r\n",
      "\r\n",
      "  -q, --quiet                 Decrease verbosity.\r\n",
      "  -v, --verbose               Increase verbosity.\r\n",
      "  --help                      Show this message and exit.\r\n"
     ]
    }
   ],
   "source": [
    "!hydromt build --help"
   ]
  },
  {
   "cell_type": "markdown",
   "id": "f286fccb",
   "metadata": {},
   "source": [
    "### setup SFINCS model base layers "
   ]
  },
  {
   "cell_type": "code",
   "execution_count": 3,
   "id": "closed-excerpt",
   "metadata": {},
   "outputs": [
    {
     "name": "stdout",
     "output_type": "stream",
     "text": [
      "2021-05-10 12:11:50,622 - build - log - DEBUG - Writing log messages to new file /home/hcwinsemius/git/hydromt_sfincs/examples/sfincs_test_base/hydromt.log.\n",
      "2021-05-10 12:11:50,622 - build - log - INFO - HydroMT version: 0.4.1.dev\n",
      "2021-05-10 12:11:50,622 - build - main - INFO - Building instance of sfincs model at /home/hcwinsemius/git/hydromt_sfincs/examples/sfincs_test_base.\n",
      "2021-05-10 12:11:50,622 - build - main - INFO - User settings:\n",
      "2021-05-10 12:11:50,623 - build - model_api - INFO - Initializing sfincs model from hydromt_sfincs (v0.1.0).\n",
      "2021-05-10 12:11:50,623 - build - model_api - WARNING - Model dir already exists and files might be overwritten: /home/hcwinsemius/git/hydromt_sfincs/examples/sfincs_test_base/.\n",
      "2021-05-10 12:11:50,623 - build - model_api - DEBUG - setup_basemaps.region: {'bbox': [12.478552, 45.600758, 12.671882, 45.687984]}\n",
      "2021-05-10 12:11:50,623 - build - model_api - DEBUG - setup_basemaps.res: 100.0\n",
      "2021-05-10 12:11:50,623 - build - model_api - DEBUG - setup_basemaps.crs: utm\n",
      "2021-05-10 12:11:50,623 - build - model_api - DEBUG - setup_basemaps.basemaps_fn: merit_hydro\n",
      "2021-05-10 12:11:50,623 - build - model_api - DEBUG - setup_basemaps.basin_index_fn: merit_hydro_index\n",
      "2021-05-10 12:11:50,623 - build - model_api - DEBUG - setup_basemaps.landmask_fn: osm_landareas\n",
      "2021-05-10 12:11:50,623 - build - model_api - DEBUG - setup_basemaps.bathymetry_fn: gebco\n",
      "2021-05-10 12:11:50,623 - build - model_api - DEBUG - setup_basemaps.mdt_fn: dtu10mdt_egm96\n",
      "2021-05-10 12:11:50,623 - build - model_api - DEBUG - setup_basemaps.merge_buffer: 0\n",
      "2021-05-10 12:11:50,623 - build - model_api - DEBUG - setup_basemaps.mask_fn: None\n",
      "2021-05-10 12:11:50,623 - build - model_api - DEBUG - setup_basemaps.dep_contour: -1\n",
      "2021-05-10 12:11:50,623 - build - model_api - DEBUG - setup_basemaps.method: bilinear\n",
      "2021-05-10 12:11:50,625 - build - data_adapter - INFO - Updating data sources from yml file /home/hcwinsemius/.hydromt_data/data/v0.0.3/data_catalog.yml\n",
      "2021-05-10 12:11:50,724 - build - data_adapter - INFO - DataCatalog: Getting merit_hydro RasterDataset raster data from /home/hcwinsemius/.hydromt_data/data/v0.0.3/merit_hydro/{variable}.tif\n",
      "2021-05-10 12:11:50,824 - build - basin_mask - DEBUG - Parsed region (kind=bbox): {'bbox': [12.478552, 45.600758, 12.671882, 45.687984]}\n",
      "2021-05-10 12:11:50,955 - build - data_adapter - INFO - DataCatalog: Getting osm_landareas GeoDataFrame vector data from /home/hcwinsemius/.hydromt_data/data/v0.0.3/osm_landareas.gpkg\n",
      "2021-05-10 12:11:51,091 - build - sfincs - INFO - Bathymetry generated\n",
      "2021-05-10 12:11:51,215 - build - model_api - DEBUG - Default config read from /home/hcwinsemius/git/hydromt_sfincs/hydromt_sfincs/data/sfincs/sfincs.inp\n",
      "2021-05-10 12:11:51,243 - build - sfincs - INFO - Mask generated; 15810 active cells.\n",
      "2021-05-10 12:11:51,243 - build - sfincs - INFO - Write model data to /home/hcwinsemius/git/hydromt_sfincs/examples/sfincs_test_base\n",
      "2021-05-10 12:11:51,243 - build - model_api - INFO - Writing model config to /home/hcwinsemius/git/hydromt_sfincs/examples/sfincs_test_base/sfincs.inp\n",
      "2021-05-10 12:11:51,244 - build - sfincs - DEBUG - Derive indices from mask.\n",
      "2021-05-10 12:11:51,258 - build - sfincs - INFO - Write GIS raster files to 'gis' subfolder\n",
      "2021-05-10 12:11:51,283 - build - sfincs - INFO - Write staticgeom files\n"
     ]
    }
   ],
   "source": [
    "# NOTE: copy this line (without !) to your shell for more direct feedback\n",
    "!hydromt build sfincs \"./sfincs_test_base\" \"{'bbox': [12.478552, 45.600758, 12.671882, 45.687984]}\" -r 100 -vv\n",
    "\n"
   ]
  },
  {
   "cell_type": "markdown",
   "id": "cb9d0032",
   "metadata": {},
   "source": [
    "The example above means the following: run **hydromt build** with:\n",
    "\n",
    "* `sfincs` : i.e. build a sfincs model\n",
    "* `./sfincs_test_base` : output model folder\n",
    "* `\"{'bbox': [45.600758, 12.478552, 45.687984,  12.671882]}\"` : make a model that is active for the full given bounding box. All *REGION* options are described in the [docs](https://deltares.github.io/hydromt/latest/user_guide/cli.html#region-options)\n",
    "* `-r 100` : build the model at a 100 meter resolution\n",
    "* `-vv` : give some extra verbosity (2 * v) to display feedback on screen. Now debug messages are provided.\n",
    "\n",
    "NOTE: As we did not specify a model configuration, only the base maps (topography) have been setup using default parameters. To build a complete model we need the use a configuraton ini-file."
   ]
  },
  {
   "cell_type": "markdown",
   "id": "ebd31242",
   "metadata": {},
   "source": [
    "### Model setup configuration"
   ]
  },
  {
   "cell_type": "markdown",
   "id": "fb8282c9",
   "metadata": {},
   "source": [
    "The ini-file contains the model setup configuration and determines which components are build and in which order and optionally sets non-default arguments for each component. This configuration is passed to hydromt using `-i <path_to_ini_file>`. We have prepared several example ini-files which are available in the model repository [examples folder](https://github.com/Deltares/hydromt_sfincs/tree/main/examples) and from the [docs(build_configuration)](https://deltares.github.io/hydromt_sfincs/latest/user_guide/sfincs/build_configuration.html). \n",
    "\n",
    "Each header as shown between `[...]` (e.g. `[setup_basemaps]`) corresponds to a model component. All model components are explained in the [docs(model_components)](https://deltares.github.io/hydromt_sfincs/latest/user_guide/sfincs/components.html). "
   ]
  },
  {
   "cell_type": "markdown",
   "id": "cc3fd44d",
   "metadata": {},
   "source": [
    "We will load the default SFINCS build ini file for inspection:"
   ]
  },
  {
   "cell_type": "code",
   "execution_count": 4,
   "id": "e88d4aed",
   "metadata": {},
   "outputs": [
    {
     "name": "stdout",
     "output_type": "stream",
     "text": [
      "[global]\n",
      "write_gis = True                # write addtional geotif and geojson files to gis subfolder\n",
      "config_fn = sfincs.inp          # name of sfincs config (inp) file\n",
      "\n",
      "[setup_config]\n",
      "tref = 20100101 000000\n",
      "tstart = 20100101 000000\n",
      "tstop = 20100103 000000\n",
      "alpha = 0.5\n",
      "zsini = 0.5\n",
      "\n",
      "[setup_basemaps]\n",
      "basemaps_fn = merit_hydro       # hydrography basemaps ['elevtn', 'flwdir', 'uparea', 'basins']\n",
      "landmask_fn = osm_landareas     # land polygon\n",
      "crs = utm                       # model CRS (must be UTM zone)\n",
      "bathymetry_fn = gebco           # bathymetry ['elevtn']\n",
      "mdt_fn = dtu10mdt_egm96         # mean dynamic topography ['mdt']\n",
      "merge_buffer = 0                # buffer (cells) between elevation and bathymetry data filled with 'linear' interpolation\n",
      "mask_fn = None                  # polygon to mask active model cells \n",
      "dep_contour = -1                # mimimum depth threshold for active model cells\n",
      "\n",
      "[setup_cn_infiltration]\n",
      "cn_fn = gcn250                  # curve number source\n",
      "antecedent_runoff_conditions = avg # for gcn250: {'dry', 'avg', 'wet'}\n",
      "\n",
      "[setup_manning_roughness]\n",
      "lulc_fn = vito                  # land-use land-cover source\n",
      "map_fn = None                   # mapping file. read from hydromt/data/lulc/{lulc_fn}_mapping.csv if None\n",
      "\n",
      "[setup_h_forcing]\n",
      "gauges_fn = gtsmv3_eu_era5      # waterlevel gauge data\n",
      "timeseries_fn = None            # timeseries data at waterlevel gauges\n",
      "mdt_fn = dtu10mdt_egm96         # mean dynamic topography ['mdt']\n",
      "buffer = 1e4                    # buffer around model region to select gauges\n",
      "\n",
      "[setup_p_forcing_gridded]\n",
      "precip_fn = None                # gridded precipitation data ['precip']\n",
      "dst_res = None                  # output resolution (m)\n"
     ]
    }
   ],
   "source": [
    "fn_ini = 'sfincs_riverine.ini'\n",
    "with open(fn_ini, 'r') as f:\n",
    "    txt = f.read()\n",
    "print(txt)"
   ]
  },
  {
   "cell_type": "markdown",
   "id": "7584dcae",
   "metadata": {},
   "source": [
    "### Data for model setup"
   ]
  },
  {
   "cell_type": "markdown",
   "id": "dad35651",
   "metadata": {},
   "source": [
    "The `<...>_fn` arguments correspond to a data source from the `DataCatalog` which is based on a yml-file with references to the data paths/urls and how the data should be read. This file can be provided to hydromt using `-d <path_to_yml_file>`. \n",
    "\n",
    "By default some example data for the Piave basin will be downloaded to `~/.hydromt_data/` which is also used for this example. An overview of the available example data is provided [here](https://deltares.github.io/hydromt/latest/user_guide/data.html#available-global-datasets)\n",
    "This example data is a based on the data which available from the Deltares p-drive. \n",
    "If you have acces to this drive, a pre-configured catalog file can be loaded using the `--dd` flag. \n",
    "\n",
    "More background how to write a data catalog yml file can be found in the [hydromt core docs](https://deltares.github.io/hydromt/latest/user_guide/data.html) "
   ]
  },
  {
   "cell_type": "markdown",
   "id": "12860ed2",
   "metadata": {},
   "source": [
    "### Setup complete SFINCS model "
   ]
  },
  {
   "cell_type": "code",
   "execution_count": 5,
   "id": "hundred-trailer",
   "metadata": {
    "scrolled": true
   },
   "outputs": [
    {
     "name": "stdout",
     "output_type": "stream",
     "text": [
      "2021-05-10 12:12:18,441 - build - log - DEBUG - Writing log messages to new file /home/hcwinsemius/git/hydromt_sfincs/examples/sfincs_test_full/hydromt.log.\n",
      "2021-05-10 12:12:18,441 - build - log - INFO - HydroMT version: 0.4.1.dev\n",
      "2021-05-10 12:12:18,441 - build - main - INFO - Building instance of sfincs model at /home/hcwinsemius/git/hydromt_sfincs/examples/sfincs_test_full.\n",
      "2021-05-10 12:12:18,441 - build - main - INFO - User settings:\n",
      "2021-05-10 12:12:18,483 - build - cli_utils - INFO - global.write_gis: True\n",
      "2021-05-10 12:12:18,484 - build - cli_utils - INFO - global.config_fn: sfincs.inp\n",
      "2021-05-10 12:12:18,484 - build - cli_utils - INFO - setup_config.tref: 20100101 000000\n",
      "2021-05-10 12:12:18,484 - build - cli_utils - INFO - setup_config.tstart: 20100101 000000\n",
      "2021-05-10 12:12:18,484 - build - cli_utils - INFO - setup_config.tstop: 20100103 000000\n",
      "2021-05-10 12:12:18,484 - build - cli_utils - INFO - setup_config.alpha: 0.5\n",
      "2021-05-10 12:12:18,484 - build - cli_utils - INFO - setup_config.zsini: 0.5\n",
      "2021-05-10 12:12:18,484 - build - cli_utils - INFO - setup_basemaps.basemaps_fn: merit_hydro\n",
      "2021-05-10 12:12:18,484 - build - cli_utils - INFO - setup_basemaps.landmask_fn: osm_landareas\n",
      "2021-05-10 12:12:18,484 - build - cli_utils - INFO - setup_basemaps.crs: utm\n",
      "2021-05-10 12:12:18,484 - build - cli_utils - INFO - setup_basemaps.bathymetry_fn: gebco\n",
      "2021-05-10 12:12:18,484 - build - cli_utils - INFO - setup_basemaps.mdt_fn: dtu10mdt_egm96\n",
      "2021-05-10 12:12:18,484 - build - cli_utils - INFO - setup_basemaps.merge_buffer: 0\n",
      "2021-05-10 12:12:18,484 - build - cli_utils - INFO - setup_basemaps.mask_fn: None\n",
      "2021-05-10 12:12:18,484 - build - cli_utils - INFO - setup_basemaps.dep_contour: -1\n",
      "2021-05-10 12:12:18,484 - build - cli_utils - INFO - setup_cn_infiltration.cn_fn: gcn250\n",
      "2021-05-10 12:12:18,484 - build - cli_utils - INFO - setup_cn_infiltration.antecedent_runoff_conditions: avg\n",
      "2021-05-10 12:12:18,484 - build - cli_utils - INFO - setup_manning_roughness.lulc_fn: vito\n",
      "2021-05-10 12:12:18,484 - build - cli_utils - INFO - setup_manning_roughness.map_fn: None\n",
      "2021-05-10 12:12:18,484 - build - cli_utils - INFO - setup_h_forcing.gauges_fn: gtsmv3_eu_era5\n",
      "2021-05-10 12:12:18,484 - build - cli_utils - INFO - setup_h_forcing.timeseries_fn: None\n",
      "2021-05-10 12:12:18,484 - build - cli_utils - INFO - setup_h_forcing.mdt_fn: dtu10mdt_egm96\n",
      "2021-05-10 12:12:18,484 - build - cli_utils - INFO - setup_h_forcing.buffer: 10000.0\n",
      "2021-05-10 12:12:18,484 - build - cli_utils - INFO - setup_p_forcing_gridded.precip_fn: None\n",
      "2021-05-10 12:12:18,485 - build - cli_utils - INFO - setup_p_forcing_gridded.dst_res: None\n",
      "2021-05-10 12:12:18,485 - build - model_api - INFO - Initializing sfincs model from hydromt_sfincs (v0.1.0).\n",
      "2021-05-10 12:12:18,485 - build - model_api - WARNING - Model dir already exists and files might be overwritten: /home/hcwinsemius/git/hydromt_sfincs/examples/sfincs_test_full/.\n",
      "2021-05-10 12:12:18,485 - build - model_api - DEBUG - Setting model config options.\n",
      "2021-05-10 12:12:18,486 - build - model_api - DEBUG - Default config read from /home/hcwinsemius/git/hydromt_sfincs/hydromt_sfincs/data/sfincs/sfincs.inp\n",
      "2021-05-10 12:12:18,486 - build - model_api - DEBUG - setup_basemaps.region: {'bbox': [12.478552, 45.600758, 12.671882, 45.687984]}\n",
      "2021-05-10 12:12:18,486 - build - model_api - DEBUG - setup_basemaps.res: 100.0\n",
      "2021-05-10 12:12:18,486 - build - model_api - DEBUG - setup_basemaps.crs: utm\n",
      "2021-05-10 12:12:18,486 - build - model_api - DEBUG - setup_basemaps.basemaps_fn: merit_hydro\n",
      "2021-05-10 12:12:18,486 - build - model_api - DEBUG - setup_basemaps.basin_index_fn: merit_hydro_index\n",
      "2021-05-10 12:12:18,487 - build - model_api - DEBUG - setup_basemaps.landmask_fn: osm_landareas\n",
      "2021-05-10 12:12:18,487 - build - model_api - DEBUG - setup_basemaps.bathymetry_fn: gebco\n",
      "2021-05-10 12:12:18,487 - build - model_api - DEBUG - setup_basemaps.mdt_fn: dtu10mdt_egm96\n",
      "2021-05-10 12:12:18,487 - build - model_api - DEBUG - setup_basemaps.merge_buffer: 0\n",
      "2021-05-10 12:12:18,487 - build - model_api - DEBUG - setup_basemaps.mask_fn: None\n",
      "2021-05-10 12:12:18,487 - build - model_api - DEBUG - setup_basemaps.dep_contour: -1\n",
      "2021-05-10 12:12:18,487 - build - model_api - DEBUG - setup_basemaps.method: bilinear\n",
      "2021-05-10 12:12:18,487 - build - data_adapter - INFO - Updating data sources from yml file /home/hcwinsemius/.hydromt_data/data/v0.0.3/data_catalog.yml\n",
      "2021-05-10 12:12:18,554 - build - data_adapter - INFO - DataCatalog: Getting merit_hydro RasterDataset raster data from /home/hcwinsemius/.hydromt_data/data/v0.0.3/merit_hydro/{variable}.tif\n",
      "2021-05-10 12:12:18,635 - build - basin_mask - DEBUG - Parsed region (kind=bbox): {'bbox': [12.478552, 45.600758, 12.671882, 45.687984]}\n",
      "2021-05-10 12:12:18,746 - build - data_adapter - INFO - DataCatalog: Getting osm_landareas GeoDataFrame vector data from /home/hcwinsemius/.hydromt_data/data/v0.0.3/osm_landareas.gpkg\n",
      "2021-05-10 12:12:18,867 - build - sfincs - INFO - Bathymetry generated\n",
      "2021-05-10 12:12:19,020 - build - sfincs - INFO - Mask generated; 15810 active cells.\n",
      "2021-05-10 12:12:19,021 - build - model_api - DEBUG - setup_cn_infiltration.cn_fn: gcn250\n",
      "2021-05-10 12:12:19,021 - build - model_api - DEBUG - setup_cn_infiltration.antecedent_runoff_conditions: avg\n",
      "2021-05-10 12:12:19,021 - build - data_adapter - INFO - DataCatalog: Getting gcn250 RasterDataset raster data from /home/hcwinsemius/.hydromt_data/data/v0.0.3/gcn250/{variable}.tif\n",
      "2021-05-10 12:12:19,060 - build - data_adapter - DEBUG - RasterDataset: Clip with geom - [12.474, 45.596, 12.677, 45.692]\n",
      "2021-05-10 12:12:19,139 - build - model_api - DEBUG - setup_manning_roughness.lulc_fn: vito\n",
      "2021-05-10 12:12:19,139 - build - model_api - DEBUG - setup_manning_roughness.map_fn: None\n",
      "2021-05-10 12:12:19,139 - build - data_adapter - INFO - DataCatalog: Getting vito RasterDataset raster data from /home/hcwinsemius/.hydromt_data/data/v0.0.3/vito.tif\n",
      "2021-05-10 12:12:19,175 - build - data_adapter - DEBUG - RasterDataset: Clip with geom - [12.474, 45.596, 12.677, 45.692]\n",
      "2021-05-10 12:12:19,239 - build - landuse - INFO - Deriving N using average resampling (nodata=-999.0).\n",
      "2021-05-10 12:12:19,266 - build - model_api - DEBUG - setup_h_forcing.gauges_fn: gtsmv3_eu_era5\n",
      "2021-05-10 12:12:19,266 - build - model_api - DEBUG - setup_h_forcing.timeseries_fn: None\n",
      "2021-05-10 12:12:19,266 - build - model_api - DEBUG - setup_h_forcing.mdt_fn: dtu10mdt_egm96\n",
      "2021-05-10 12:12:19,266 - build - model_api - DEBUG - setup_h_forcing.buffer: 10000.0\n",
      "2021-05-10 12:12:19,266 - build - sfincs - INFO - waterlevel forcing: no waterlevel boundary cells in model.\n",
      "2021-05-10 12:12:19,266 - build - sfincs - DEBUG - waterlevel forcing: setting data at 0 points.\n",
      "2021-05-10 12:12:19,267 - build - sfincs - DEBUG - waterlevel forcing: removing bndfile from sfincs.inp.\n",
      "2021-05-10 12:12:19,267 - build - sfincs - DEBUG - waterlevel forcing: removing bzsfile from sfincs.inp.\n",
      "2021-05-10 12:12:19,267 - build - model_api - DEBUG - setup_p_forcing_gridded.precip_fn: None\n",
      "2021-05-10 12:12:19,267 - build - model_api - DEBUG - setup_p_forcing_gridded.dst_res: None\n",
      "2021-05-10 12:12:19,267 - build - sfincs - INFO - Write model data to /home/hcwinsemius/git/hydromt_sfincs/examples/sfincs_test_full\n",
      "2021-05-10 12:12:19,267 - build - model_api - INFO - Writing model config to /home/hcwinsemius/git/hydromt_sfincs/examples/sfincs_test_full/sfincs.inp\n",
      "2021-05-10 12:12:19,268 - build - sfincs - DEBUG - Derive indices from mask.\n",
      "2021-05-10 12:12:19,309 - build - sfincs - INFO - Write GIS raster files to 'gis' subfolder\n",
      "2021-05-10 12:12:19,368 - build - sfincs - INFO - Write staticgeom files\n"
     ]
    }
   ],
   "source": [
    "# NOTE: copy this line (without !) to your shell for more direct feedback\n",
    "!hydromt build sfincs \"./sfincs_test_full\" \"{'bbox': [12.478552, 45.600758, 12.671882, 45.687984]}\" -r 100 -i sfincs_riverine.ini -vv"
   ]
  },
  {
   "cell_type": "markdown",
   "id": "b31e92d2",
   "metadata": {},
   "source": [
    "With this example we build a complete SFINCS model including forcing. Compared to the previous **hydromt build** we have added:\n",
    "* `-i sfincs_riverine.ini` : setup configuration file including all components to build and their arguments"
   ]
  },
  {
   "cell_type": "markdown",
   "id": "2eed76e4",
   "metadata": {},
   "source": [
    "Next we check which files have been created. The model root should contain two netcdf (.nc) files, one for the staticmaps and one for the forcing data, a SFINCS configuration (sfincs.inp) file. These files are sufficient to run the SFINCS model. In addition several geometry (.geojson) files are saved in the *staticgeoms* folder.  Finally, the setup process is logged in the hydromt.log file. "
   ]
  },
  {
   "cell_type": "code",
   "execution_count": 6,
   "id": "wireless-style",
   "metadata": {},
   "outputs": [
    {
     "name": "stdout",
     "output_type": "stream",
     "text": [
      "sfincs_test_full\n",
      " - sfincs.man\n",
      " - hydromt.log\n",
      " - sfincs.dep\n",
      " - sfincs.inp\n",
      " - sfincs.scs\n",
      " - sfincs.ind\n",
      " - sfincs.msk\n",
      "sfincs_test_full/gis\n",
      " - region.geojson\n",
      " - bbox.geojson\n",
      " - msk.tif\n",
      " - manning.tif\n",
      " - dep.tif\n",
      " - scs.tif\n"
     ]
    }
   ],
   "source": [
    "import os\n",
    "root = 'sfincs_test_full'\n",
    "for path, _, files in os.walk(root):\n",
    "    print(path)\n",
    "    for name in files:\n",
    "        if name.endswith('.xml'):\n",
    "            continue\n",
    "        print(f' - {name}')"
   ]
  },
  {
   "cell_type": "markdown",
   "id": "adef7fa1",
   "metadata": {},
   "source": [
    "### Visualize and/or inspect model schematization"
   ]
  },
  {
   "cell_type": "markdown",
   "id": "20ce9df3",
   "metadata": {},
   "source": [
    "* The **SFINCS plot riverine** example notebook contains scripts to visualize your model\n"
   ]
  }
 ],
 "metadata": {
  "kernelspec": {
   "display_name": "Python 3",
   "language": "python",
   "name": "python3"
  },
  "language_info": {
   "codemirror_mode": {
    "name": "ipython",
    "version": 3
   },
   "file_extension": ".py",
   "mimetype": "text/x-python",
   "name": "python",
   "nbconvert_exporter": "python",
   "pygments_lexer": "ipython3",
   "version": "3.9.2"
  }
 },
 "nbformat": 4,
 "nbformat_minor": 5
}
